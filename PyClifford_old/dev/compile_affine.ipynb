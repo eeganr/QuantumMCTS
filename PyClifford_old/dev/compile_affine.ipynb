{
 "cells": [
  {
   "cell_type": "markdown",
   "id": "7214d818-9746-4f09-9273-b7913cab2c50",
   "metadata": {},
   "source": [
    "# Note"
   ]
  },
  {
   "cell_type": "markdown",
   "id": "a0666f07-863a-4b97-b3a9-1209b62a9b53",
   "metadata": {},
   "source": [
    "<font color='red'>All the index in this notebook starts with 1 (Julia/Matlab convention)</font>"
   ]
  },
  {
   "cell_type": "markdown",
   "id": "5f8c476b-6544-42f4-832a-fa197e32d472",
   "metadata": {},
   "source": [
    "The stabilizer state can be written as\n",
    "$$|\\psi\\rangle = \\sum_{\\vec{v},h}\\mathbb{i}^{\\vec{L}\\cdot[\\vec{v};h]}(-1)^{[\\vec{v};h]^{T}\\cdot \\textbf{Q}\\cdot [\\vec{v};h]}\\delta\\left(\\textbf{P}\\cdot[\\vec{v};1;h]=0\\text{ mod 2}\\right)\\tag{1}$$"
   ]
  },
  {
   "cell_type": "markdown",
   "id": "e6c5953e-f05e-40af-865e-14fd36d5a56e",
   "metadata": {},
   "source": [
    "- $\\vec{v}=(v_1,v_2,\\dots,v_n)$ denotes $n$ visible binary variable. $h$ is a binary scalar, denoting hidden variable. In the following, we will see we have at most one hidden variable at any given time.\n",
    "- $\\vec{L}$ is a (n+1)-by-1 integer vector (mod 4). The first $n$ elements are the coefficient for visible variable. And the last element is the coefficient for the hidden variable.\n",
    "- $\\textbf{Q}$ is a (n+1)-by-(n+1) upper triangular integer matrix (mod 2), with zero diagonal elements. It denotes the quadratic terms, such as $Q_{ij}v_iv_j$\n",
    "- $\\textbf{P}$ is a (m)-by-(n+2) integer matrix (mod 2), and $0\\leq m \\leq n$. Each row is a constraints for $\\vec{v}$ and $h$. The first $n$ elements are coefficient for visible variable. It follows a coefficient for constant bias 1 and a coefficient for hidden variable."
   ]
  },
  {
   "cell_type": "markdown",
   "id": "1ec0f871-6bd7-4420-8764-970085f657db",
   "metadata": {},
   "source": [
    "At any given time, after we sum over the hidden variable, the stabilizer state can be written as Eq.(1), where the last element of $\\vec{L}$ is 0, the last column of $\\textbf{Q}$ is zero, and the last column of $\\textbf{P}$ is 0."
   ]
  },
  {
   "cell_type": "markdown",
   "id": "a42efee4-720c-4a27-9f86-73ac75046c2d",
   "metadata": {},
   "source": [
    "For example, the all-up state is a stabilizer state with \n",
    "$$\\vec{L}=(0,0,\\cdots,0|0)\\tag{2}$$\n",
    "$$\\textbf{Q}=\\textbf{0}\\tag{3}$$\n",
    "$$\\textbf{P}=[\\textbf{1}|\\vec{0}|\\vec{0}]$$\n",
    "\n",
    "where $\\textbf{1}$ is the identity matrix, and $\\vec{0}$ is zero vector."
   ]
  },
  {
   "cell_type": "markdown",
   "id": "14037e8d-0037-43b7-b03b-e441668cff8f",
   "metadata": {},
   "source": [
    "Add projector $\\dfrac{1\\pm P}{2}$ to the state: $P$ is a Pauli operator."
   ]
  },
  {
   "cell_type": "markdown",
   "id": "3b681a03-b676-4212-b701-6ee013f6b63a",
   "metadata": {},
   "source": [
    "- If the sign is \"-\", add $(-1)^h$"
   ]
  },
  {
   "cell_type": "markdown",
   "id": "e031fe6e-fcc8-4c40-97ba-b7cd44f3584e",
   "metadata": {},
   "source": [
    "- If $P_i=Z_i$: add $(-1)^{v_i h}$ $\\rightarrow$ $Q_{i,h}=Q_{i,h}+1 (\\text{mod}2)$"
   ]
  },
  {
   "cell_type": "markdown",
   "id": "757e2492-4901-4896-bbb0-0408c8ae0929",
   "metadata": {},
   "source": [
    "- If $P_i=X_i$: $v_i\\rightarrow v_i+h(\\text{mod 2})$. It means:\n",
    "    - Changes induced by linear term $\\mathbb{i}^{L_i v_i+L_i h}(-1)^{L_i v_i h}$: (1). $L_h=L_h+L_i(\\text{mod 4})$ (2).$Q_{i,h}=Q_{i,h}+L_i(\\text{mod 2})$\n",
    "    - Changes induced by quadratic term $(-1)^{Q_{i,j}v_i v_j}(-1)^{Q_{i,j}v_j h}$: (j>i) For $Q_{i,j}\\neq 0$, $Q_{j,h}=Q_{j,h}+Q_{i,j}\\text{(mod 2)}$.; (j<i) For $Q_{j,i}\\neq 0$, $Q_{j,h}=Q_{j,h}+Q_{j,i}\\text{(mod 2)}$"
   ]
  },
  {
   "cell_type": "markdown",
   "id": "a37dba95-66b8-4b0a-9175-f0e3410d558c",
   "metadata": {},
   "source": [
    "- If $P_i=Y_i$: First change $v_i\\rightarrow v_i+h(\\text{mod 2})$, then add $\\mathbb{i}^{3h}(-1)^{v_i h}$:\n",
    "    - Changes induced by linear term $\\mathbb{i}^{L_i v_i+L_i h}(-1)^{L_i v_i h}$: (1). $L_h=L_h+L_i(\\text{mod 4})$ (2).$Q_{i,h}=Q_{i,h}+L_i(\\text{mod 2})$\n",
    "    - Changes induced by quadratic term $(-1)^{Q_{i,j}v_i v_j}(-1)^{Q_{i,j}v_j h}$: (j>i) For $Q_{i,j}\\neq 0$, $Q_{j,h}=Q_{j,h}+Q_{i,j}\\text{(mod 2)}$.; (j<i) For $Q_{j,i}\\neq 0$, $Q_{j,h}=Q_{j,h}+Q_{j,i}\\text{(mod 2)}$\n",
    "    - $L_h=L_h+3(\\text{mod 4})$, $Q_{i,h}=Q_{i,h}+1(\\text{mod 2})$"
   ]
  },
  {
   "cell_type": "markdown",
   "id": "2c7459d4-3dd9-425e-9fd9-d22c1fbd6ff4",
   "metadata": {},
   "source": [
    "The crucial part is that we only have $\\textbf{one}$ hidden variable $h$ after adding a Pauli projector."
   ]
  },
  {
   "cell_type": "markdown",
   "id": "319cb1ca-36e5-4548-a7bb-447bfb8f2b71",
   "metadata": {},
   "source": [
    "Integrating over $h$:"
   ]
  },
  {
   "cell_type": "markdown",
   "id": "148c3e4f-40c4-4d2e-8478-201e362b9d34",
   "metadata": {},
   "source": [
    "Check if $\\textbf{P}[:,-1]$ contains non-zero elements (constraints involve hidden variable):\n",
    "- If there are more than 1 non-zero elements:\n",
    "    - Find first row ($k$) where $\\textbf{P}[k,-1]\\neq 0$, and add $\\textbf{P}[j,:]=\\textbf{P}[j,:]+\\textbf{P}[k,:](\\text{mod }2)$ for $\\textbf{P}[j,-1]\\neq 1$\n",
    "    - replace $h = \\textbf{P}[k,:-1]\\cdot \\vec{v}$:\n",
    "        - *[Linear term]*: If $L[-1]\\neq 0$ (exist non-zero coefficient for hidden variable): For $l$ in 1:n, if $P[k,l]\\neq 0$, $L[l]=L[l]+(1+2*P[k,-2])*L[-1]*P[k,l](\\text{mod 4})$; quadratic from linear: For $p$ in 1:n, For $q$ in (p+1):n, If (P[k,p]$\\neq$0)&(P[k,q]$\\neq$0), then $Q[p,q]=Q[p,q]+L[-1](\\text{mod 2})$\n",
    "        - *[Quadratic term]*: For $l$ in 1:n, if $Q[l,-1]\\neq 0$, there is interaction between $v_l$ and $h$: if $P[k,-2]\\neq 0$, $L[l]=L[l]+2\\text{(mod 4)}$, then for $m$ in 1:n, if $P[k,m]\\neq 0$: if $m=l$, $L[l]=L[l]+2\\text{(mod 4)}$, else $Q[l,m]=Q[l,m]+1(\\text{mod 2})$(m>l)\n",
    "    - **Reset:**, delete $\\textbf{P}[k,:]$, set $L[-1]=0$, set $Q[:,-1]=0$"
   ]
  },
  {
   "cell_type": "markdown",
   "id": "21894b42-c563-4e64-976e-3db96f740c2f",
   "metadata": {},
   "source": [
    "Else, it means $\\textbf{P}[:,-1]=0$  (constraints do not involve hidden variable): we only need to sum over $h$ in linear and quadratic terms"
   ]
  },
  {
   "cell_type": "markdown",
   "id": "93f28a88-5c79-4f5b-8058-bf4240e9ed22",
   "metadata": {},
   "source": [
    "- If $L[-1]=0$ (coefficient of $h$ in linear term is 0):\n",
    "    $$\\sum_{h}(-1)^{h L_p}=2 \\delta(L_p \\text{ mod 2})$$\n",
    "    $L_p=Q[1:n,-1]$. If $[L_p,0,0]$ is independent of $\\textbf{P}$, add $[L_p,0,0]$ to $\\textbf{P}$. Otherwise, the constraints is already in $\\textbf{P}$\n",
    "    \n",
    "    **Reset:** set $Q[:,-1]=0$"
   ]
  },
  {
   "cell_type": "markdown",
   "id": "ca2b7eb5-19ed-483c-8b9a-98da8aea2919",
   "metadata": {},
   "source": [
    "- If $L[-1]=1$\n",
    "    $$\\sum_h (-1)^{h L_p}\\mathbb{i}^{h}=(1+\\mathbb{i})\\mathbb{i}^{3L_p^2}$$\n",
    "    $L_p=Q[1:n,-1]$. \n",
    "    \n",
    "    *[update linear term]*: For $l$ in 1:n, if $Q[l,-1]\\neq 0$, $L[l]=L[l]+3*Q[l,-1]^2=L[l]+3Q[l,-1](\\text{mod 4})$.\n",
    "    \n",
    "    *[update quadratic term]*: For $l$ in 1:n & For $m$ in ($l$+1):n. If $(Q[l,-1]\\neq 0)\\&(Q[m,-1]\\neq 0)$, $Q[l,m]=Q[l,m]+3Q[l,-1]Q[m,-1](\\text{mod 2})$\n",
    "    \n",
    "    **Reset:** set $L[-1]=0$, set $Q[:,-1]=0$"
   ]
  },
  {
   "cell_type": "markdown",
   "id": "77b02809-137f-4bc8-b0d6-d3cd699551d3",
   "metadata": {},
   "source": [
    "- If $L[-1]=2$\n",
    "    $$\\sum_h (-1)^{h L_p}\\mathbb{i}^{2h}=2\\delta(L_p+1 \\text{mod 2})$$\n",
    "    $L_p=Q[1:n,-1]$. If $[L_p,1,0]$ is independent of $\\textbf{P}$, add $[L_p,1,0]$ to $\\textbf{P}$. Otherwise, the constraints is already in $\\textbf{P}$\n",
    "    \n",
    "    **Reset:** set $L[-1]=0$, set $Q[:,-1]=0$"
   ]
  },
  {
   "cell_type": "markdown",
   "id": "9499f856-2252-4136-a682-5ca41981fbc5",
   "metadata": {},
   "source": [
    "- If $L[-1]=3$\n",
    "    $$\\sum_h (-1)^{h L_p}\\mathbb{i}^{3h}=(1-\\mathbb{i})\\mathbb{i}^{L_p^2}$$\n",
    "    $L_p = Q[1:n, -1]$.\n",
    "    \n",
    "    *[update linear term]:* For $l$ in 1:n, if $Q[l,-1]\\neq 0$, $L[l]=L[l]+Q[l,-1]^2=L[l]+Q[l,-1](\\text{mod 4})$.\n",
    "    \n",
    "    *[update quadratic term]:* For $l$ in 1:n & For m in $l+1$:n: If $(Q[l,-1]\\neq)\\&(Q[m,-1]\\neq 0)$, $Q[l,m]=Q[l,m]+Q[l,-1]Q[m,-1](\\text{mod 2})$\n",
    "    \n",
    "    **Reset:** set $L[-1]=0$, set $Q[:,-1]=0$"
   ]
  },
  {
   "cell_type": "markdown",
   "id": "b9778359-510e-47cd-b790-b76af3156a87",
   "metadata": {},
   "source": [
    "# Implementation"
   ]
  },
  {
   "cell_type": "code",
   "execution_count": 1,
   "id": "adc3890f-d5e0-4fdf-a03d-c7dce90a8db9",
   "metadata": {},
   "outputs": [],
   "source": [
    "from context import *"
   ]
  },
  {
   "cell_type": "code",
   "execution_count": 2,
   "id": "52274d96-7861-4e86-89bd-67d656d220ff",
   "metadata": {},
   "outputs": [],
   "source": [
    "from numba import njit"
   ]
  },
  {
   "cell_type": "code",
   "execution_count": 925,
   "id": "3bcf92e2-15c0-4c2c-ae86-43c747bb5ace",
   "metadata": {},
   "outputs": [],
   "source": [
    "rho = stabilizer.stabilizer_state(\"ZZ\",\"-YY\")"
   ]
  },
  {
   "cell_type": "code",
   "execution_count": 926,
   "id": "2038a6b6-84e3-4d9a-b17c-e18a6f3a3663",
   "metadata": {},
   "outputs": [
    {
     "data": {
      "text/plain": [
       "0.25000 II -0.25000 YY +0.25000 ZZ +0.25000 XX"
      ]
     },
     "execution_count": 926,
     "metadata": {},
     "output_type": "execute_result"
    }
   ],
   "source": [
    "rho.density_matrix"
   ]
  },
  {
   "cell_type": "code",
   "execution_count": 927,
   "id": "43f7043d-74e9-4c9c-b223-4361c09c6fc4",
   "metadata": {},
   "outputs": [
    {
     "data": {
      "text/latex": [
       "Quantum object: dims = [[2, 2], [2, 2]], shape = (4, 4), type = oper, isherm = True\\begin{equation*}\\left(\\begin{array}{*{11}c}0.500 & 0.0 & 0.0 & 0.500\\\\0.0 & 0.0 & 0.0 & 0.0\\\\0.0 & 0.0 & 0.0 & 0.0\\\\0.500 & 0.0 & 0.0 & 0.500\\\\\\end{array}\\right)\\end{equation*}"
      ],
      "text/plain": [
       "Quantum object: dims = [[2, 2], [2, 2]], shape = (4, 4), type = oper, isherm = True\n",
       "Qobj data =\n",
       "[[0.5 0.  0.  0.5]\n",
       " [0.  0.  0.  0. ]\n",
       " [0.  0.  0.  0. ]\n",
       " [0.5 0.  0.  0.5]]"
      ]
     },
     "execution_count": 927,
     "metadata": {},
     "output_type": "execute_result"
    }
   ],
   "source": [
    "rho.to_qutip()"
   ]
  },
  {
   "cell_type": "code",
   "execution_count": 38,
   "id": "87372043-42aa-4188-8118-165964091741",
   "metadata": {},
   "outputs": [
    {
     "data": {
      "text/plain": [
       "array([0, 2, 0, 0])"
      ]
     },
     "execution_count": 38,
     "metadata": {},
     "output_type": "execute_result"
    }
   ],
   "source": [
    "rho.ps"
   ]
  },
  {
   "cell_type": "code",
   "execution_count": 39,
   "id": "3d39ba8c-06ed-47a3-a5d6-9dc10fd8206c",
   "metadata": {},
   "outputs": [
    {
     "data": {
      "text/plain": [
       "0.25000 II -0.25000 YY +0.25000 XX +0.25000 ZZ"
      ]
     },
     "execution_count": 39,
     "metadata": {},
     "output_type": "execute_result"
    }
   ],
   "source": [
    "rho.density_matrix"
   ]
  },
  {
   "cell_type": "code",
   "execution_count": 40,
   "id": "cf0ab6d2-f353-4b1a-a4bc-355ea1a15ce4",
   "metadata": {},
   "outputs": [
    {
     "data": {
      "text/plain": [
       "0.25000 II +0.25000 XX +0.25000 ZZ -0.25000 YY"
      ]
     },
     "execution_count": 40,
     "metadata": {},
     "output_type": "execute_result"
    }
   ],
   "source": [
    "stabilizer.ghz_state(2).density_matrix"
   ]
  },
  {
   "cell_type": "code",
   "execution_count": 88,
   "id": "50b82f90-9e8a-4d59-823b-f1851ed14ea0",
   "metadata": {},
   "outputs": [
    {
     "name": "stdout",
     "output_type": "stream",
     "text": [
      "1\n",
      "2\n",
      "3\n"
     ]
    }
   ],
   "source": [
    "for i in range(1,4):\n",
    "    print(i)"
   ]
  },
  {
   "cell_type": "code",
   "execution_count": 267,
   "id": "59ffc636-eb18-4410-8334-bdf27b8343a6",
   "metadata": {},
   "outputs": [],
   "source": [
    "@njit\n",
    "def z2rank(mat):\n",
    "    '''Calculate Z2 rank of a binary matrix.\n",
    "\n",
    "    Parameters:\n",
    "    mat: int matrix - input binary matrix.\n",
    "        caller must ensure that mat contains only 0 and 1.\n",
    "        mat is destroyed upon output! \n",
    "\n",
    "    Returns:\n",
    "    r: int - rank of the matrix under Z2 algebra.'''\n",
    "    nr, nc = mat.shape # get num of rows and cols\n",
    "    r = 0 # current row index\n",
    "    for i in range(nc): # run through cols\n",
    "        if r == nr: # row exhausted first\n",
    "            return r # row rank is full, early return\n",
    "        if mat[r, i] == 0: # need to find pivot\n",
    "            found = False # set a flag\n",
    "            for k in range(r + 1, nr):\n",
    "                if mat[k, i]: # mat[k, i] nonzero\n",
    "                    found = True # pivot found in k\n",
    "                    break\n",
    "            if found: # if pivot found in k\n",
    "                # swap rows r, k\n",
    "                for j in range(i, nc):\n",
    "                    tmp = mat[k,j]\n",
    "                    mat[k,j] = mat[r, j]\n",
    "                    mat[r,j] = tmp\n",
    "            else: # if pivot not found\n",
    "                continue # done with this col\n",
    "        # pivot has moved to mat[r, i], perform GE\n",
    "        for j in range(r + 1, nr):\n",
    "            if mat[j, i]: # mat[j, i] nonzero\n",
    "                mat[j, i:] = (mat[j, i:] + mat[r, i:])%2\n",
    "        r = r + 1 # rank inc\n",
    "    # col exhausted, last nonvanishing row indexed by r\n",
    "    return r"
   ]
  },
  {
   "cell_type": "code",
   "execution_count": 956,
   "id": "bc532009-8869-410b-b188-5f18225c411e",
   "metadata": {},
   "outputs": [],
   "source": [
    "@njit\n",
    "def update_LQP(g, p, L, Q, P):\n",
    "    '''\n",
    "    !!! This is an in-place function\n",
    "    g is array of pauli string (mod 2)\n",
    "    p is imag phase\n",
    "    L is (n+1) vector (mod 4)\n",
    "    Q is (n+1)-(n+1) matrix (mod 2)\n",
    "    P is m-(n+2) matrix (mod 2)\n",
    "    '''\n",
    "    N = g.shape[0]//2\n",
    "    if p == 2: # minus pauli\n",
    "        L[-1] = (L[-1]+2)%4\n",
    "    for i in range(N):\n",
    "        if np.sum(g[2*i:2*i+2]==np.array([0,1]))==2: #Z_i \n",
    "            Q[i,-1]=(Q[i,-1]+1)%2\n",
    "        elif np.sum(g[2*i:2*i+2]==np.array([1,0]))==2: #X_i \n",
    "            L[-1] = (L[-1]+L[i])%4\n",
    "            Q[i,-1]=(Q[i,-1]+L[i])%2\n",
    "            for j in range(i+1,N):\n",
    "                if Q[i,j]!=0:\n",
    "                    Q[j,-1]=(Q[j,-1]+Q[i,j])%2\n",
    "            for j in range(i):\n",
    "                if Q[j,i]!=0:\n",
    "                    Q[j,-1]=(Q[j,-1]+Q[j,i])%2\n",
    "            P[:,-1] = (P[:,-1]+P[:,i])%2\n",
    "        elif np.sum(g[2*i:2*i+2]==np.array([1,1]))==2: #Y_i \n",
    "            L[-1]=(L[-1]+L[i])%4\n",
    "            Q[i,-1]=(Q[i,-1]+L[i])%2\n",
    "            for j in range(i+1,N):\n",
    "                if Q[i,j]!=0:\n",
    "                    Q[j,-1]=(Q[j,-1]+Q[i,j])%2\n",
    "            for j in range(i):\n",
    "                if Q[j,i]!=0:\n",
    "                    Q[j,-1]=(Q[j,-1]+Q[j,i])%2\n",
    "            L[-1]=(L[-1]+3)%4\n",
    "            Q[i,-1]=(Q[i,-1]+1)%2\n",
    "            P[:,-1]=(P[:,-1]+P[:,i])%2\n",
    "    return L, Q, P"
   ]
  },
  {
   "cell_type": "code",
   "execution_count": 957,
   "id": "878d1ed4-6e65-4496-9907-c0eb55f87795",
   "metadata": {},
   "outputs": [],
   "source": [
    "@njit\n",
    "def numbda_vstack(a,b):\n",
    "    '''\n",
    "    Due to numba compilation, this function only supports when inputs are matrices.\n",
    "    '''\n",
    "    print(\"a shape:\", a.shape)\n",
    "    print(\"b shape:\", b.shape)\n",
    "    assert a.shape[1]==b.shape[1]\n",
    "    comb = np.zeros((a.shape[0]+b.shape[0],a.shape[1]))\n",
    "    comb[:a.shape[0],:]=a\n",
    "    comb[a.shape[0]:,:]=b\n",
    "    return comb"
   ]
  },
  {
   "cell_type": "code",
   "execution_count": 958,
   "id": "6bcfed52-c383-41ce-84ce-b88abf7b52a4",
   "metadata": {},
   "outputs": [],
   "source": [
    "# @njit\n",
    "def integrate_hidden(L,Q,P):\n",
    "    '''\n",
    "    !!! This is an in-place function\n",
    "    L is (n+1) vector (mod 4)\n",
    "    Q is (n+1)-(n+1) matrix (mod 2)\n",
    "    P is m-(n+2) matrix (mod 2)\n",
    "    '''\n",
    "    N = Q.shape[0]-1\n",
    "    if np.sum(P[:,-1])>0 : # constraints contain hidden variable\n",
    "        k = 0\n",
    "        while P[k,-1]==0:\n",
    "            k=k+1\n",
    "        # get first row (k) involve hidden contraints\n",
    "        for j in range(k+1,P.shape[0]):\n",
    "            if P[j,-1]!=0:\n",
    "                P[j,:]=(P[j,:]+P[k,:])%2\n",
    "        # Replace h=P[k,:-1]*vec{v}\n",
    "        # Linear term-linear:\n",
    "        if L[-1]!=0: #has nonzero coefficient for hidden in linear term\n",
    "            for l in range(N):\n",
    "                if P[k,l]!=0:\n",
    "                    L[l]=(L[l]+(1+2*P[k,-2])*L[-1]*P[k,l])%4\n",
    "        # Linear term-quadratic:\n",
    "        for p in range(N):\n",
    "            for q in range(p+1,N):\n",
    "                if (P[k,p]!=0)&(P[k,q]!=0):\n",
    "                    Q[p,q]=(Q[p,q]+L[-1])%2\n",
    "        # Quadratic term:\n",
    "        for l in range(N):\n",
    "            if Q[l,-1]!=0: # there is v_l*h term\n",
    "                if P[k,-2]!=0: #there is bias term in constraints\n",
    "                    L[l]=(L[l]+2)%4\n",
    "                for m in range(N):\n",
    "                    if P[k,m]!=0:\n",
    "                        if m==l:\n",
    "                            L[l]=(L[l]+2)%4\n",
    "                        elif m>l:\n",
    "                            Q[l,m]=(Q[l,m]+1)%2\n",
    "                        else: #l<m\n",
    "                            Q[m,l]=(Q[m,l]+1)%2\n",
    "        # Reset:\n",
    "        P = np.delete(P,k,0) # this is not supported by numba and not in-place change\n",
    "        L[-1]=0\n",
    "        Q[:,-1]=np.zeros(N+1).astype(int)\n",
    "    else: # constraints doesn't contain hidden variable\n",
    "        if L[-1]==0: #coeff of h in linear term is zero\n",
    "            newP = np.zeros(N+2).astype(int)\n",
    "            newP[0:N]=Q[0:N,-1]\n",
    "            if np.sum(P[0,:])==0:# No contraints yet!\n",
    "                P[0,:]=newP\n",
    "            else:\n",
    "                current_rank = P.shape[0]\n",
    "                new_rank = z2rank(numbda_vstack(P,newP.reshape(1,-1)))\n",
    "                if new_rank>current_rank: # new constraints\n",
    "                    P = numbda_vstack(P,newP.reshape(1,-1))\n",
    "            # Reset\n",
    "            Q[:,-1]=np.zeros(N+1).astype(int)\n",
    "        elif L[-1]==1: \n",
    "            # update linear term\n",
    "            for l in range(N):\n",
    "                if Q[l,-1]!=0:\n",
    "                    L[l]=(L[l]+3*Q[l,-1])%4\n",
    "            # update quadratic term\n",
    "            for l in range(N):\n",
    "                for m in range(l+1,N):\n",
    "                    if (Q[l,-1]!=0)&(Q[m,-1]!=0):\n",
    "                        Q[l,m]=(Q[l,m]+3*Q[l,-1]*Q[m,-1])%2\n",
    "            # Reset\n",
    "            L[-1]=0\n",
    "            Q[:,-1]=np.zeros(N+1).astype(int)\n",
    "        elif L[-1]==2:\n",
    "            newP = np.zeros(N+2).astype(int)\n",
    "            newP[0:N]=Q[0:N,-1]\n",
    "            newP[N]=1\n",
    "            if np.sum(P[0,:])==0:# No contraints yet!\n",
    "                P[0,:]=newP\n",
    "            else:\n",
    "                current_rank = P.shape[0]\n",
    "                new_rank = z2rank(numbda_vstack(P,newP.reshape(1,-1)))\n",
    "                if new_rank>current_rank: # new constraints\n",
    "                    P = numbda_vstack(P,newP.reshape(1,-1))\n",
    "            # Reset\n",
    "            L[-1]=0\n",
    "            Q[:,-1]=np.zeros(N+1).astype(int)\n",
    "        else:\n",
    "            assert L[-1]==3\n",
    "            # update linear term\n",
    "            for l in range(N):\n",
    "                if Q[l,-1]!=0:\n",
    "                    L[l]=(L[l]+Q[l,-1])%4\n",
    "            # update quadratic term\n",
    "            for l in range(N):\n",
    "                for m in range(l+1,N):\n",
    "                    if (Q[l,-1]!=0)&(Q[m,-1]!=0):\n",
    "                        Q[l,m]=(Q[l,m]+Q[l,-1]*Q[m,-1])%2\n",
    "            # Reset\n",
    "            L[-1]=0\n",
    "            Q[:,-1]=np.zeros(N+1).astype(int)  \n",
    "    return L, Q, P"
   ]
  },
  {
   "cell_type": "markdown",
   "id": "859bedcf-028c-46bf-ab8a-aff92f7fbafe",
   "metadata": {},
   "source": [
    "## Test"
   ]
  },
  {
   "cell_type": "code",
   "execution_count": 996,
   "id": "d0f13b77-1983-4d89-862c-4c178bed8804",
   "metadata": {},
   "outputs": [],
   "source": [
    "L = np.array([0,0,0,0]).astype(int)"
   ]
  },
  {
   "cell_type": "code",
   "execution_count": 997,
   "id": "36eb8875-d89b-42b8-82cd-09d2c7319c36",
   "metadata": {},
   "outputs": [],
   "source": [
    "Q = np.zeros((4,4)).astype(int)"
   ]
  },
  {
   "cell_type": "code",
   "execution_count": 998,
   "id": "b7e9dc6f-8cd5-49e2-a52f-24893ee3380e",
   "metadata": {},
   "outputs": [],
   "source": [
    "P = np.array([[0,0,0,0,0]])"
   ]
  },
  {
   "cell_type": "code",
   "execution_count": 999,
   "id": "cc2a6a29-4184-47a7-9aae-702f09e95c08",
   "metadata": {},
   "outputs": [],
   "source": [
    "L, Q, P = update_LQP(paulialg.pauli(\"YZX\").g,2,L,Q,P)"
   ]
  },
  {
   "cell_type": "code",
   "execution_count": 1000,
   "id": "1150f138-c66b-4e28-ac87-7d868d5c8d76",
   "metadata": {},
   "outputs": [],
   "source": [
    "L, Q, P = integrate_hidden(L,Q,P)"
   ]
  },
  {
   "cell_type": "code",
   "execution_count": 1001,
   "id": "ab97bc20-7ea0-4221-b110-1a23a9d24c2a",
   "metadata": {},
   "outputs": [],
   "source": [
    "L, Q, P = update_LQP(paulialg.pauli(\"IIX\").g,0,L,Q,P)"
   ]
  },
  {
   "cell_type": "code",
   "execution_count": 1002,
   "id": "11cea55c-1d72-4ecf-9fbc-a1002a15d287",
   "metadata": {},
   "outputs": [],
   "source": [
    "L, Q, P = integrate_hidden(L,Q,P)"
   ]
  },
  {
   "cell_type": "code",
   "execution_count": 1003,
   "id": "efff32c1-716d-4bb8-9305-2d52a227fcad",
   "metadata": {},
   "outputs": [],
   "source": [
    "L, Q, P = update_LQP(paulialg.pauli(\"IZI\").g,0,L,Q,P)"
   ]
  },
  {
   "cell_type": "code",
   "execution_count": 1004,
   "id": "f6ec0ab0-9dda-4a16-933e-eb2eb25d4a56",
   "metadata": {},
   "outputs": [],
   "source": [
    "L, Q, P = integrate_hidden(L,Q,P)"
   ]
  },
  {
   "cell_type": "code",
   "execution_count": 1005,
   "id": "2360b766-8e9d-4bc4-9583-04843d9e9f58",
   "metadata": {},
   "outputs": [
    {
     "name": "stdout",
     "output_type": "stream",
     "text": [
      "L:  [3 3 0 0]\n",
      "Q:  [[0 1 0 0]\n",
      " [0 0 0 0]\n",
      " [0 0 0 0]\n",
      " [0 0 0 0]]\n",
      "P:  [[0 1 0 0 0]]\n"
     ]
    }
   ],
   "source": [
    "print(\"L: \",L)\n",
    "print(\"Q: \",Q)\n",
    "print(\"P: \",P)"
   ]
  },
  {
   "cell_type": "code",
   "execution_count": 1010,
   "id": "9d703104-bcb3-4355-8ff7-045bbca29793",
   "metadata": {},
   "outputs": [],
   "source": [
    "state = np.matmul(stabilizer.stabilizer_state(\"-YZX\",\"IIX\",\"IZI\").to_qutip().full(),np.ones(8))"
   ]
  },
  {
   "cell_type": "code",
   "execution_count": 1011,
   "id": "d07aaf76-baff-4e00-836b-102b4463707c",
   "metadata": {},
   "outputs": [
    {
     "name": "stdout",
     "output_type": "stream",
     "text": [
      "[1.+0.j 1.+0.j 0.+0.j 0.+0.j 0.-1.j 0.-1.j 0.+0.j 0.+0.j]\n"
     ]
    }
   ],
   "source": [
    "state = state*(np.conj(state[0]))\n",
    "print(state/state[0])"
   ]
  },
  {
   "cell_type": "code",
   "execution_count": 995,
   "id": "eb4527db-4862-455a-a4a5-fd6ec0cbc793",
   "metadata": {},
   "outputs": [
    {
     "data": {
      "text/plain": [
       "StabilizerState(\n",
       "   +YZX\n",
       "   +IIX\n",
       "   +IZI)"
      ]
     },
     "execution_count": 995,
     "metadata": {},
     "output_type": "execute_result"
    }
   ],
   "source": [
    "stabilizer.random_clifford_state(3)"
   ]
  },
  {
   "cell_type": "markdown",
   "id": "aacd927d-8efb-41eb-9205-ed85e4449d68",
   "metadata": {},
   "source": [
    "# Develop"
   ]
  },
  {
   "cell_type": "code",
   "execution_count": 229,
   "id": "f0ee28ce-c106-4ff8-bbbe-f4493e2850a4",
   "metadata": {},
   "outputs": [],
   "source": [
    "@njit\n",
    "def delete_workaround(arr, num):\n",
    "    mask = np.zeros(arr.shape[0], dtype=np.int64) == 0\n",
    "    print(mask)\n",
    "    mask[np.where(arr == num)[0]] = False\n",
    "    return arr[mask]"
   ]
  },
  {
   "cell_type": "code",
   "execution_count": 230,
   "id": "aa7b20a6-6e0b-4baf-b905-b244ee481ec9",
   "metadata": {},
   "outputs": [
    {
     "name": "stdout",
     "output_type": "stream",
     "text": [
      "[ True  True  True]\n"
     ]
    },
    {
     "data": {
      "text/plain": [
       "array([[4, 5, 6],\n",
       "       [7, 8, 9]])"
      ]
     },
     "execution_count": 230,
     "metadata": {},
     "output_type": "execute_result"
    }
   ],
   "source": [
    "delete_workaround(np.array([[1,2,3],[4,5,6],[7,8,9]]),3)"
   ]
  },
  {
   "cell_type": "code",
   "execution_count": null,
   "id": "1c9250c2-ec34-4094-8a9d-69c91f68105f",
   "metadata": {},
   "outputs": [],
   "source": []
  },
  {
   "cell_type": "code",
   "execution_count": 269,
   "id": "552ebc6c-14d9-4d39-9556-f833094ade29",
   "metadata": {},
   "outputs": [
    {
     "data": {
      "text/plain": [
       "array([[1, 2, 3],\n",
       "       [3, 3, 3],\n",
       "       [3, 2, 3]])"
      ]
     },
     "execution_count": 269,
     "metadata": {},
     "output_type": "execute_result"
    }
   ],
   "source": [
    "np.vstack([np.array([[1,2,3],[3,3,3]]),np.array([3,2,3])])"
   ]
  },
  {
   "cell_type": "code",
   "execution_count": 84,
   "id": "501cd8c6-309b-415a-831c-9ee88b904b81",
   "metadata": {},
   "outputs": [
    {
     "name": "stdout",
     "output_type": "stream",
     "text": [
      "[[0.41629642 0.14370698 0.66743301 0.58196928 0.83077058]\n",
      " [0.02966384 0.24539921 0.26387363 0.55925178 0.66816607]\n",
      " [0.48609719 0.76985879 0.1477727  0.76039783 0.7710577 ]\n",
      " [0.44670952 0.36719223 0.54222802 0.48359624 0.93018027]\n",
      " [0.25058035 0.57952452 0.39279824 0.74382935 0.86542772]]\n"
     ]
    }
   ],
   "source": [
    "a = np.random.rand(5,5)\n",
    "print(a)"
   ]
  },
  {
   "cell_type": "code",
   "execution_count": 87,
   "id": "bd3db378-72ea-4e2e-885c-371da36645b4",
   "metadata": {},
   "outputs": [
    {
     "data": {
      "text/plain": [
       "array([0.26387363, 0.55925178])"
      ]
     },
     "execution_count": 87,
     "metadata": {},
     "output_type": "execute_result"
    }
   ],
   "source": [
    "a[1,2:4]"
   ]
  },
  {
   "cell_type": "code",
   "execution_count": 72,
   "id": "1dee5cad-3f2a-478c-9229-d16c387448e7",
   "metadata": {},
   "outputs": [],
   "source": [
    "@njit\n",
    "def test(a):\n",
    "    if np.sum(a==np.array([0,0]))==2:\n",
    "        return print(\"True\")\n",
    "    else:\n",
    "        return print(\"False\")\n"
   ]
  },
  {
   "cell_type": "code",
   "execution_count": 75,
   "id": "afdadd06-f9c3-48a2-bb7d-c114b9894b25",
   "metadata": {},
   "outputs": [
    {
     "name": "stdout",
     "output_type": "stream",
     "text": [
      "False\n"
     ]
    }
   ],
   "source": [
    "test(np.array([1,1]))"
   ]
  },
  {
   "cell_type": "code",
   "execution_count": 49,
   "id": "aad9a77a-cefe-4732-bf8f-daa88899780e",
   "metadata": {},
   "outputs": [
    {
     "data": {
      "text/plain": [
       "(array([0, 0, 1]), array([0, 0, 1]), array([0, 0, 1]))"
      ]
     },
     "execution_count": 49,
     "metadata": {},
     "output_type": "execute_result"
    }
   ],
   "source": [
    "update_LQP(0,2,L,L,L)"
   ]
  },
  {
   "cell_type": "code",
   "execution_count": null,
   "id": "9862eac4-6b08-42fc-abb8-c2ee5dd9cc08",
   "metadata": {},
   "outputs": [],
   "source": []
  }
 ],
 "metadata": {
  "kernelspec": {
   "display_name": "Python 3 (ipykernel)",
   "language": "python",
   "name": "python3"
  },
  "language_info": {
   "codemirror_mode": {
    "name": "ipython",
    "version": 3
   },
   "file_extension": ".py",
   "mimetype": "text/x-python",
   "name": "python",
   "nbconvert_exporter": "python",
   "pygments_lexer": "ipython3",
   "version": "3.10.4"
  }
 },
 "nbformat": 4,
 "nbformat_minor": 5
}
