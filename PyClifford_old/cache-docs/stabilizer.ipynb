{
 "cells": [
  {
   "cell_type": "code",
   "execution_count": 1,
   "metadata": {},
   "outputs": [],
   "source": [
    "from context import *"
   ]
  },
  {
   "cell_type": "markdown",
   "metadata": {},
   "source": [
    "# Stablizer Formalism (`stabilizer`)"
   ]
  },
  {
   "cell_type": "markdown",
   "metadata": {},
   "source": [
    "### General Idea: State-Map Duality"
   ]
  },
  {
   "cell_type": "markdown",
   "metadata": {},
   "source": [
    "Every stabilizer state $\\rho$ is dual to a Clifford unitary $U$, such that the state can be generated from the zero state $|00\\cdots0\\rangle$ as\n",
    "$$\\rho = U|00\\cdots0\\rangle\\langle 00\\cdots0|U^\\dagger$$.\n",
    "Both $\\rho$ and $U$ describes a stabilizer code:\n",
    "* $\\rho$ is a projection operator that specifies the code subspace of the stabilizer code.\n",
    "* $U$ is the encoding Clifford unitary that encodes the logical + syndrome qubits to the physical qubits in the stabilizer code.\n",
    "\n",
    "The package `stabilizer` (based on `paulialg`) provides related functions to represent stabilizer states and Clifford maps. There are two classes defined in this package.\n",
    "\n",
    "* `stabilizer.CliffordMap`. Since the Clifford unitary $U$ maps Pauli operators to Pauli operators, it is sufficient to specify a Clifford unitary by how each single-qubit Pauli operator transforms under the unitary. Such transformation rules are stored in a table called the Clifford map.\n",
    "\n",
    "* `stabilizer.StabilizerState`. The stabilizer state is specified by a set of stabilizers and the corresponding destabilizers. Using the binary representation of Pauli operators, they can be stored in a table, called the stabilizer tableau. \n",
    "\n",
    "Since both classes need to store a table of Pauli operators, they are both realized as subclasses of `paulialg.PauliList`."
   ]
  },
  {
   "cell_type": "markdown",
   "metadata": {},
   "source": [
    "## Basic Usage"
   ]
  },
  {
   "cell_type": "markdown",
   "metadata": {},
   "source": [
    "### Constructors"
   ]
  },
  {
   "cell_type": "markdown",
   "metadata": {},
   "source": [
    "#### Construct Clifford Maps"
   ]
  },
  {
   "cell_type": "markdown",
   "metadata": {},
   "source": [
    "`identity_map(N)` constructs an identity Clifford map on $N$ qubits."
   ]
  },
  {
   "cell_type": "code",
   "execution_count": 2,
   "metadata": {},
   "outputs": [
    {
     "data": {
      "text/plain": [
       "CliffordMap(\n",
       "  X0-> +XIII\n",
       "  Z0-> +ZIII\n",
       "  X1-> +IXII\n",
       "  Z1-> +IZII\n",
       "  X2-> +IIXI\n",
       "  Z2-> +IIZI\n",
       "  X3-> +IIIX\n",
       "  Z3-> +IIIZ)"
      ]
     },
     "execution_count": 2,
     "metadata": {},
     "output_type": "execute_result"
    }
   ],
   "source": [
    "qst.identity_map(4)"
   ]
  },
  {
   "cell_type": "markdown",
   "metadata": {},
   "source": [
    "`random_pauli_map(N)` samples a random Clifford map made of random single-qubit Clifford gates on $N$ qubits, i.e. $U=\\prod_i U_i\\in\\mathrm{Cl}(2)^N$. Each realization specifies a random local Pauli basis."
   ]
  },
  {
   "cell_type": "code",
   "execution_count": 3,
   "metadata": {},
   "outputs": [
    {
     "data": {
      "text/plain": [
       "CliffordMap(\n",
       "  X0-> +XIII\n",
       "  Z0-> -ZIII\n",
       "  X1-> +IZII\n",
       "  Z1-> +IXII\n",
       "  X2-> -IIYI\n",
       "  Z2-> -IIXI\n",
       "  X3-> +IIIX\n",
       "  Z3-> +IIIY)"
      ]
     },
     "execution_count": 3,
     "metadata": {},
     "output_type": "execute_result"
    }
   ],
   "source": [
    "qst.random_pauli_map(4)"
   ]
  },
  {
   "cell_type": "markdown",
   "metadata": {},
   "source": [
    "`random_clifford_map(N)` samples a globally random Clifford map on $N$ qubits, i.e. $U\\in\\mathrm{Cl}(2^N)$. Each realization specifies a random global stabilizer basis."
   ]
  },
  {
   "cell_type": "code",
   "execution_count": 4,
   "metadata": {},
   "outputs": [
    {
     "data": {
      "text/plain": [
       "CliffordMap(\n",
       "  X0-> +XXXZ\n",
       "  Z0-> -XIXY\n",
       "  X1-> +IZYZ\n",
       "  Z1-> -IYYZ\n",
       "  X2-> +IXXI\n",
       "  Z2-> -IXYX\n",
       "  X3-> +XIII\n",
       "  Z3-> +ZXIX)"
      ]
     },
     "execution_count": 4,
     "metadata": {},
     "output_type": "execute_result"
    }
   ],
   "source": [
    "qst.random_clifford_map(4)"
   ]
  },
  {
   "cell_type": "markdown",
   "metadata": {},
   "source": [
    "`clifford_rotation_map(g)` constructs a Clifford map based for a Clifford rotation $\\exp(\\mathrm{i}\\pi/4 g)$ given its generator $g$."
   ]
  },
  {
   "cell_type": "code",
   "execution_count": 5,
   "metadata": {},
   "outputs": [
    {
     "data": {
      "text/plain": [
       "CliffordMap(\n",
       "  X0-> +XIII\n",
       "  Z0-> +YXYZ\n",
       "  X1-> +IXII\n",
       "  Z1-> +XYYZ\n",
       "  X2-> +XXZZ\n",
       "  Z2-> -XXXZ\n",
       "  X3-> -XXYY\n",
       "  Z3-> +IIIZ)"
      ]
     },
     "execution_count": 5,
     "metadata": {},
     "output_type": "execute_result"
    }
   ],
   "source": [
    "qst.clifford_rotation_map('-XXYZ')"
   ]
  },
  {
   "cell_type": "markdown",
   "metadata": {},
   "source": [
    "#### Construct Stabilizer States"
   ]
  },
  {
   "cell_type": "markdown",
   "metadata": {},
   "source": [
    "`maximally_mixed_state(N)` constructs a $N$-qubit maximally mixed state (by setting the density matrix to full rank).\n",
    "$$\\rho=2^{-N}\\mathbb{1}.$$"
   ]
  },
  {
   "cell_type": "code",
   "execution_count": 6,
   "metadata": {},
   "outputs": [
    {
     "data": {
      "text/plain": [
       "StabilizerState()"
      ]
     },
     "execution_count": 6,
     "metadata": {},
     "output_type": "execute_result"
    }
   ],
   "source": [
    "qst.maximally_mixed_state(4)"
   ]
  },
  {
   "cell_type": "markdown",
   "metadata": {},
   "source": [
    "`zero_state(N)` constructs a $N$-qubit all-zero state \n",
    "$$\\rho=|0\\cdots0\\rangle\\langle 0\\cdots0|=\\prod_{i}\\frac{1+Z_i}{2}.$$"
   ]
  },
  {
   "cell_type": "code",
   "execution_count": 7,
   "metadata": {},
   "outputs": [
    {
     "data": {
      "text/plain": [
       "StabilizerState(\n",
       "   +ZIII\n",
       "   +IZII\n",
       "   +IIZI\n",
       "   +IIIZ)"
      ]
     },
     "execution_count": 7,
     "metadata": {},
     "output_type": "execute_result"
    }
   ],
   "source": [
    "qst.zero_state(4)"
   ]
  },
  {
   "cell_type": "markdown",
   "metadata": {},
   "source": [
    "`one_state(N)` constructs a $N$-qubit all-one state \n",
    "$$\\rho=|1\\cdots1\\rangle\\langle 1\\cdots1|=\\prod_{i}\\frac{1-Z_i}{2}.$$"
   ]
  },
  {
   "cell_type": "code",
   "execution_count": 8,
   "metadata": {},
   "outputs": [
    {
     "data": {
      "text/plain": [
       "StabilizerState(\n",
       "   -ZIII\n",
       "   -IZII\n",
       "   -IIZI\n",
       "   -IIIZ)"
      ]
     },
     "execution_count": 8,
     "metadata": {},
     "output_type": "execute_result"
    }
   ],
   "source": [
    "qst.one_state(4)"
   ]
  },
  {
   "cell_type": "markdown",
   "metadata": {},
   "source": [
    "`ghz_state(N)` constructs a $N$-qubit GHZ state\n",
    "$$\\rho = |\\Psi\\rangle\\langle\\Psi|, \\qquad \\text{with }|\\Psi\\rangle=\\frac{1}{\\sqrt{2}}(|0\\cdots0\\rangle+|1\\cdots1\\rangle).$$"
   ]
  },
  {
   "cell_type": "code",
   "execution_count": 9,
   "metadata": {},
   "outputs": [
    {
     "data": {
      "text/plain": [
       "StabilizerState(\n",
       "   +ZZII\n",
       "   +IZZI\n",
       "   +IIZZ\n",
       "   +XXXX)"
      ]
     },
     "execution_count": 9,
     "metadata": {},
     "output_type": "execute_result"
    }
   ],
   "source": [
    "qst.ghz_state(4)"
   ]
  },
  {
   "cell_type": "markdown",
   "metadata": {},
   "source": [
    "`random_pauli_map(N)` samples a $N$ qubit random Pauli state.\n",
    "$$\\rho=U|0\\cdots0\\rangle\\langle 0\\cdots0|U^\\dagger,\\qquad\\text{with }U\\in \\mathrm{Cl}(2)^N.$$"
   ]
  },
  {
   "cell_type": "code",
   "execution_count": 10,
   "metadata": {},
   "outputs": [
    {
     "data": {
      "text/plain": [
       "StabilizerState(\n",
       "   -ZIII\n",
       "   -IXII\n",
       "   +IIZI\n",
       "   +IIIZ)"
      ]
     },
     "execution_count": 10,
     "metadata": {},
     "output_type": "execute_result"
    }
   ],
   "source": [
    "qst.random_pauli_state(4)"
   ]
  },
  {
   "cell_type": "markdown",
   "metadata": {},
   "source": [
    "`random_clifford_map(N)` samples a $N$ qubit random Clifford (random stabilizer) state.\n",
    "$$\\rho=U|0\\cdots0\\rangle\\langle 0\\cdots0|U^\\dagger,\\qquad\\text{with }U\\in \\mathrm{Cl}(2^N).$$"
   ]
  },
  {
   "cell_type": "code",
   "execution_count": 11,
   "metadata": {},
   "outputs": [
    {
     "data": {
      "text/plain": [
       "StabilizerState(\n",
       "   +YZXZ\n",
       "   +YXYZ\n",
       "   -XIIY\n",
       "   -YIIZ)"
      ]
     },
     "execution_count": 11,
     "metadata": {},
     "output_type": "execute_result"
    }
   ],
   "source": [
    "qst.random_clifford_state(4)"
   ]
  },
  {
   "cell_type": "markdown",
   "metadata": {},
   "source": [
    "`stabilizer_state(...)` is a universal constructor of stabilizer state by specifying all stabilizers."
   ]
  },
  {
   "cell_type": "code",
   "execution_count": 12,
   "metadata": {},
   "outputs": [
    {
     "data": {
      "text/plain": [
       "StabilizerState(\n",
       "   +XXY\n",
       "   -YYI)"
      ]
     },
     "execution_count": 12,
     "metadata": {},
     "output_type": "execute_result"
    }
   ],
   "source": [
    "qst.stabilizer_state('XXY','-YYI')"
   ]
  },
  {
   "cell_type": "markdown",
   "metadata": {},
   "source": [
    "A hack to inspect the full stabilizer tableau is by converting `StabilizerState` to `PauliList` by"
   ]
  },
  {
   "cell_type": "code",
   "execution_count": 13,
   "metadata": {},
   "outputs": [
    {
     "data": {
      "text/plain": [
       " +ZZI\n",
       " +XXY\n",
       " -YYI\n",
       " +ZXZ\n",
       " +IIZ\n",
       " +ZIZ"
      ]
     },
     "execution_count": 13,
     "metadata": {},
     "output_type": "execute_result"
    }
   ],
   "source": [
    "qst.stabilizer_state('XXY','-YYI')[:]"
   ]
  },
  {
   "cell_type": "markdown",
   "metadata": {},
   "source": [
    "User need to ensure that stabilizers commute with each other, otherwise an error will be raised."
   ]
  },
  {
   "cell_type": "code",
   "execution_count": 14,
   "metadata": {},
   "outputs": [
    {
     "ename": "ValueError",
     "evalue": "stabilizers must all commute with each other.",
     "output_type": "error",
     "traceback": [
      "\u001b[0;31m---------------------------------------------------------------------------\u001b[0m",
      "\u001b[0;31mValueError\u001b[0m                                Traceback (most recent call last)",
      "Input \u001b[0;32mIn [14]\u001b[0m, in \u001b[0;36m<cell line: 1>\u001b[0;34m()\u001b[0m\n\u001b[0;32m----> 1\u001b[0m \u001b[43mqst\u001b[49m\u001b[38;5;241;43m.\u001b[39;49m\u001b[43mstabilizer_state\u001b[49m\u001b[43m(\u001b[49m\u001b[38;5;124;43m'\u001b[39;49m\u001b[38;5;124;43mXXY\u001b[39;49m\u001b[38;5;124;43m'\u001b[39;49m\u001b[43m,\u001b[49m\u001b[38;5;124;43m'\u001b[39;49m\u001b[38;5;124;43m-YYI\u001b[39;49m\u001b[38;5;124;43m'\u001b[39;49m\u001b[43m,\u001b[49m\u001b[38;5;124;43m'\u001b[39;49m\u001b[38;5;124;43mIZZ\u001b[39;49m\u001b[38;5;124;43m'\u001b[39;49m\u001b[43m)\u001b[49m\n",
      "File \u001b[0;32m~/Dropbox (Personal)/Projects/[You]MLQST/QuantumStateTomography/docs/../qst/stabilizer.py:200\u001b[0m, in \u001b[0;36mstabilizer_state\u001b[0;34m(*stabilizers)\u001b[0m\n\u001b[1;32m    198\u001b[0m \u001b[38;5;66;03m# validity check:\u001b[39;00m\n\u001b[1;32m    199\u001b[0m \u001b[38;5;28;01mif\u001b[39;00m \u001b[38;5;129;01mnot\u001b[39;00m (acq_mat(stabilizers\u001b[38;5;241m.\u001b[39mgs) \u001b[38;5;241m==\u001b[39m \u001b[38;5;241m0\u001b[39m)\u001b[38;5;241m.\u001b[39mall():\n\u001b[0;32m--> 200\u001b[0m     \u001b[38;5;28;01mraise\u001b[39;00m \u001b[38;5;167;01mValueError\u001b[39;00m(\u001b[38;5;124m'\u001b[39m\u001b[38;5;124mstabilizers must all commute with each other.\u001b[39m\u001b[38;5;124m'\u001b[39m)\n\u001b[1;32m    201\u001b[0m state \u001b[38;5;241m=\u001b[39m maximally_mixed_state(stabilizers\u001b[38;5;241m.\u001b[39mN)\n\u001b[1;32m    202\u001b[0m state\u001b[38;5;241m.\u001b[39mgs, state\u001b[38;5;241m.\u001b[39mr \u001b[38;5;241m=\u001b[39m stabilizer_project(state\u001b[38;5;241m.\u001b[39mgs, numpy\u001b[38;5;241m.\u001b[39mflipud(stabilizers\u001b[38;5;241m.\u001b[39mgs), state\u001b[38;5;241m.\u001b[39mr)\n",
      "\u001b[0;31mValueError\u001b[0m: stabilizers must all commute with each other."
     ]
    }
   ],
   "source": [
    "qst.stabilizer_state('XXY','-YYI','IZZ')"
   ]
  },
  {
   "cell_type": "markdown",
   "metadata": {},
   "source": [
    "#### State-Map Conversion"
   ]
  },
  {
   "cell_type": "markdown",
   "metadata": {},
   "source": [
    "Stabilizer states and Clifford maps can be mapped to each other."
   ]
  },
  {
   "cell_type": "code",
   "execution_count": 15,
   "metadata": {},
   "outputs": [
    {
     "data": {
      "text/plain": [
       "StabilizerState(\n",
       "   +XXY\n",
       "   -YYI)"
      ]
     },
     "execution_count": 15,
     "metadata": {},
     "output_type": "execute_result"
    }
   ],
   "source": [
    "rho = qst.stabilizer_state('XXY','-YYI')\n",
    "rho"
   ]
  },
  {
   "cell_type": "code",
   "execution_count": 16,
   "metadata": {},
   "outputs": [
    {
     "data": {
      "text/plain": [
       "CliffordMap(\n",
       "  X0-> +ZXZ\n",
       "  Z0-> +ZZI\n",
       "  X1-> +IIZ\n",
       "  Z1-> +XXY\n",
       "  X2-> +ZIZ\n",
       "  Z2-> -YYI)"
      ]
     },
     "execution_count": 16,
     "metadata": {},
     "output_type": "execute_result"
    }
   ],
   "source": [
    "rho.to_map()"
   ]
  },
  {
   "cell_type": "code",
   "execution_count": 17,
   "metadata": {},
   "outputs": [
    {
     "data": {
      "text/plain": [
       "StabilizerState(\n",
       "   +ZZI\n",
       "   +XXY\n",
       "   -YYI)"
      ]
     },
     "execution_count": 17,
     "metadata": {},
     "output_type": "execute_result"
    }
   ],
   "source": [
    "rho.to_map().to_state()"
   ]
  },
  {
   "cell_type": "markdown",
   "metadata": {},
   "source": [
    "* `.to_map()` and `.to_state()` will make new copies of Pauli string data in the memory.\n",
    "* the information about the rank of the density matrix is lost in the Clifford map, so the back conversion will result in a zero rank stabilizer state."
   ]
  },
  {
   "cell_type": "markdown",
   "metadata": {},
   "source": [
    "### `CliffordMap` Methods"
   ]
  },
  {
   "cell_type": "markdown",
   "metadata": {},
   "source": [
    "#### Map Embedding"
   ]
  },
  {
   "cell_type": "markdown",
   "metadata": {},
   "source": [
    "`.embed(small_map, mask)` provides the method to embed a smaller Clifford map on a subset of qubits to the current Clifford map. This is a in-place operation. The Clifford map object that provide this method will get modified under the embedding.\n",
    "\n",
    "**Parameters:**\n",
    "* `small_map` is a `CliffordMap` object supported on a subset of qubits.\n",
    "* `mask` is a boolean array specifying the subset of qubits."
   ]
  },
  {
   "cell_type": "code",
   "execution_count": 18,
   "metadata": {},
   "outputs": [
    {
     "data": {
      "text/plain": [
       "CliffordMap(\n",
       "  X0-> +XIIIII\n",
       "  Z0-> +ZIIIII\n",
       "  X1-> +IXIIII\n",
       "  Z1-> +IZIIII\n",
       "  X2-> +IIXIII\n",
       "  Z2-> +IIZIII\n",
       "  X3-> +IIIXII\n",
       "  Z3-> +IIIZII\n",
       "  X4-> +IIIIXI\n",
       "  Z4-> +IIIIZI\n",
       "  X5-> +IIIIIX\n",
       "  Z5-> +IIIIIZ)"
      ]
     },
     "execution_count": 18,
     "metadata": {},
     "output_type": "execute_result"
    }
   ],
   "source": [
    "cmap = qst.identity_map(6)\n",
    "cmap"
   ]
  },
  {
   "cell_type": "code",
   "execution_count": 20,
   "metadata": {},
   "outputs": [
    {
     "data": {
      "text/plain": [
       "CliffordMap(\n",
       "  X0-> -IIIZII\n",
       "  Z0-> -IIIXII\n",
       "  X1-> +IXIIII\n",
       "  Z1-> +IZIIII\n",
       "  X2-> +IIXIII\n",
       "  Z2-> +IIZIII\n",
       "  X3-> +ZIIIII\n",
       "  Z3-> -YIIIYI\n",
       "  X4-> -ZIIIXI\n",
       "  Z4-> +ZIIIZI\n",
       "  X5-> +IIIIIX\n",
       "  Z5-> +IIIIIZ)"
      ]
     },
     "execution_count": 20,
     "metadata": {},
     "output_type": "execute_result"
    }
   ],
   "source": [
    "cmap.embed(qst.random_clifford_map(3), numpy.array([True,False,False,True,True,False]))"
   ]
  },
  {
   "cell_type": "markdown",
   "metadata": {},
   "source": [
    "#### Map Composition"
   ]
  },
  {
   "cell_type": "markdown",
   "metadata": {},
   "source": [
    "`.compose(other)` returns the composition of the current Clifford map with another Clifford map. This will return a new Clifford map without modifying either of the input maps. The Clifford map object which initiates this method will be the preceeding map in the composition. \n",
    "\n",
    "**Parameters:**\n",
    "* `other` - another `CliffordMap`."
   ]
  },
  {
   "cell_type": "markdown",
   "metadata": {},
   "source": [
    "Example: composition of a Clifford rotation with its inverse rotation will be an identity map."
   ]
  },
  {
   "cell_type": "code",
   "execution_count": 22,
   "metadata": {},
   "outputs": [
    {
     "data": {
      "text/plain": [
       "CliffordMap(\n",
       "  X0-> +XII\n",
       "  Z0-> +ZII\n",
       "  X1-> +IXI\n",
       "  Z1-> +IZI\n",
       "  X2-> +IIX\n",
       "  Z2-> +IIZ)"
      ]
     },
     "execution_count": 22,
     "metadata": {},
     "output_type": "execute_result"
    }
   ],
   "source": [
    "qst.clifford_rotation_map('-XXY').compose(qst.clifford_rotation_map('+XXY'))"
   ]
  },
  {
   "cell_type": "markdown",
   "metadata": {},
   "source": [
    "#### Map Inversion"
   ]
  },
  {
   "cell_type": "markdown",
   "metadata": {},
   "source": [
    "`.inverse()` returns the inverse of the current Clifford map. This will return a new Clifford map withoutt modifying the original map. The inverse map is such that its composition with the original map must be identity"
   ]
  },
  {
   "cell_type": "code",
   "execution_count": 23,
   "metadata": {},
   "outputs": [
    {
     "data": {
      "text/plain": [
       "CliffordMap(\n",
       "  X0-> -Z\n",
       "  Z0-> +X)"
      ]
     },
     "execution_count": 23,
     "metadata": {},
     "output_type": "execute_result"
    }
   ],
   "source": [
    "cmap = qst.clifford_rotation_map('Y')\n",
    "cmap"
   ]
  },
  {
   "cell_type": "code",
   "execution_count": 24,
   "metadata": {},
   "outputs": [
    {
     "data": {
      "text/plain": [
       "CliffordMap(\n",
       "  X0-> +Z\n",
       "  Z0-> -X)"
      ]
     },
     "execution_count": 24,
     "metadata": {},
     "output_type": "execute_result"
    }
   ],
   "source": [
    "cmap.inverse()"
   ]
  },
  {
   "cell_type": "markdown",
   "metadata": {},
   "source": [
    "Test on random maps."
   ]
  },
  {
   "cell_type": "code",
   "execution_count": 25,
   "metadata": {},
   "outputs": [
    {
     "data": {
      "text/plain": [
       "CliffordMap(\n",
       "  X0-> +XIII\n",
       "  Z0-> +ZIII\n",
       "  X1-> +IXII\n",
       "  Z1-> +IZII\n",
       "  X2-> +IIXI\n",
       "  Z2-> +IIZI\n",
       "  X3-> +IIIX\n",
       "  Z3-> +IIIZ)"
      ]
     },
     "execution_count": 25,
     "metadata": {},
     "output_type": "execute_result"
    }
   ],
   "source": [
    "cmap = qst.random_clifford_map(4)\n",
    "cmap.inverse().compose(cmap)"
   ]
  },
  {
   "cell_type": "code",
   "execution_count": 26,
   "metadata": {},
   "outputs": [
    {
     "data": {
      "text/plain": [
       "CliffordMap(\n",
       "  X0-> +XIII\n",
       "  Z0-> +ZIII\n",
       "  X1-> +IXII\n",
       "  Z1-> +IZII\n",
       "  X2-> +IIXI\n",
       "  Z2-> +IIZI\n",
       "  X3-> +IIIX\n",
       "  Z3-> +IIIZ)"
      ]
     },
     "execution_count": 26,
     "metadata": {},
     "output_type": "execute_result"
    }
   ],
   "source": [
    "cmap.compose(cmap.inverse()) "
   ]
  },
  {
   "cell_type": "markdown",
   "metadata": {},
   "source": [
    "Both left and right composition are identity."
   ]
  },
  {
   "cell_type": "markdown",
   "metadata": {},
   "source": [
    "### `StabilizerState` Methods"
   ]
  },
  {
   "cell_type": "markdown",
   "metadata": {},
   "source": [
    "#### Copy"
   ]
  },
  {
   "cell_type": "markdown",
   "metadata": {},
   "source": [
    "`.copy()` returns a copy of the state, such that the original state will not be touch by modification on the copy state. It is useful to copy the state for measurement (as measurement changes the state).\n",
    "\n",
    "Example: measurement can change the state. Copy before measurement can prevent the original state from been changed."
   ]
  },
  {
   "cell_type": "code",
   "execution_count": null,
   "metadata": {},
   "outputs": [
    {
     "name": "stdout",
     "output_type": "stream",
     "text": [
      "pre-measurement state:\n",
      "StabilizerState(\n",
      "   -IZXII\n",
      "   -YXYYI\n",
      "   +XZIIX\n",
      "   +XXZYZ\n",
      "   -IXYIY)\n",
      "post-measurement state:\n",
      "StabilizerState(\n",
      "   -IXIII\n",
      "   -ZIIII\n",
      "   +IIYII\n",
      "   +IIIXI\n",
      "   -IXYIY)\n"
     ]
    }
   ],
   "source": [
    "rho0 = qst.random_clifford_state(5)\n",
    "rho1 = rho0.copy()\n",
    "rho1.measure(qst.random_pauli_state(5))\n",
    "print('pre-measurement state:\\n{}\\npost-measurement state:\\n{}'.format(rho0, rho1))"
   ]
  },
  {
   "cell_type": "markdown",
   "metadata": {},
   "source": [
    "#### Measurement"
   ]
  },
  {
   "cell_type": "markdown",
   "metadata": {},
   "source": [
    "`.measure(obs)` measure the stabilizer state on a set of commuting observables. The state will gets modified in-place.\n",
    "\n",
    "**Parameters:**\n",
    "* `obs` - Observables to measure. The following types are supported:\n",
    "    * `PauliList` - a list of Pauli operators (user must ensure that operators in the list are commuting, otherwise they can not measured simutaneously).\n",
    "    * `StabilizerState` - stabilizers of a stabilizer state is always commuting, which can be treated as commuting observables for measurement.\n",
    "    \n",
    "**Returns:**\n",
    "* `out` - measuremnt outcome, can only be $0$, $\\pm1$ for independent Pauli observables on stabilizer state.\n",
    "* `log2prob` - the log2 of the probability of realizing this particular outcome.\n",
    "\n",
    "**Side Effect:**\n",
    "The state itself will be updated to the post measurement state."
   ]
  },
  {
   "cell_type": "markdown",
   "metadata": {},
   "source": [
    "Example: prepare a state and some observables."
   ]
  },
  {
   "cell_type": "code",
   "execution_count": 26,
   "metadata": {},
   "outputs": [
    {
     "name": "stdout",
     "output_type": "stream",
     "text": [
      "state:\n",
      "StabilizerState(\n",
      "   +ZZI\n",
      "   +IZZ\n",
      "   +XXX)\n",
      "observables:\n",
      " -XII\n",
      " +IXI\n",
      " -IIZ\n"
     ]
    }
   ],
   "source": [
    "rho = qst.ghz_state(3)\n",
    "obs = qst.random_pauli_state(3).stabilizers\n",
    "print('state:\\n{}\\nobservables:\\n{}'.format(rho,obs))"
   ]
  },
  {
   "cell_type": "markdown",
   "metadata": {},
   "source": [
    "Perform the measurement, return the measurement outcomes and log probability."
   ]
  },
  {
   "cell_type": "code",
   "execution_count": 28,
   "metadata": {},
   "outputs": [
    {
     "data": {
      "text/plain": [
       "(array([1, 0, 1]), -3.0)"
      ]
     },
     "execution_count": 28,
     "metadata": {},
     "output_type": "execute_result"
    }
   ],
   "source": [
    "rho.measure(obs)"
   ]
  },
  {
   "cell_type": "markdown",
   "metadata": {},
   "source": [
    "The state will get modified."
   ]
  },
  {
   "cell_type": "code",
   "execution_count": 29,
   "metadata": {},
   "outputs": [
    {
     "data": {
      "text/plain": [
       "StabilizerState(\n",
       "   +XII\n",
       "   +IXI\n",
       "   +IIZ)"
      ]
     },
     "execution_count": 29,
     "metadata": {},
     "output_type": "execute_result"
    }
   ],
   "source": [
    "rho"
   ]
  },
  {
   "cell_type": "markdown",
   "metadata": {},
   "source": [
    "**Algorithm Outline**:\n",
    "\n",
    "We scan over every observable $G_k$. For each observable, we continue to scan over all operators in the stabilizer tableau. If the observable $G_k$ anticommute with\n",
    "1. at least one active stabilizer (the first of them being $S_p$) $\\Rightarrow$ $G_k$ is an *error* operator that take the state out of the code subspace $\\Rightarrow$ the measurement will collapse the state to one of the two possible measurement outcomes $G_{k}=\\pm 1$ with equal probability, and the state will be *updated*.\n",
    "2. at least one standby stabilizer or destabilizer (the first of them being $S_p$)$\\Rightarrow$ $G_k$ is a *logical* operator that will further stabilize the code subspace $\\Rightarrow$ the measurement will activate a new pair of stabilizer and destabilizer, and the state will be *extended*.\n",
    "3. otherwise, $G_k$ is a *trivial* operator in the code subspace $\\Rightarrow$ the measurement is classical, and the state is untouched.\n",
    "\n",
    "|    | `update`? | `extend`? |\n",
    "|----|-----------|-----------|\n",
    "| 1. | `True`    | `False`   |\n",
    "| 2. | `True`    | `True`    |\n",
    "| 3. | `False`   | `False`   |\n",
    "\n",
    "* *update*: \n",
    "    * $G_k$ must replace $S_p$ to be the active stabilizer. But to mantain its algebraic relatiion with the destabilizer, the original $S_p$ can be promoted to become the corresponding destabilizer. Such that $S_\\tilde{p}\\leftarrow S_p$, $S_p \\leftarrow G_k$ ($\\tilde{p}$ denotes the dual row of $p$)\n",
    "    * The sign of $G_k$ is randomly asigned with half-to-half probability.\n",
    "\n",
    "* *extend*:\n",
    "    * The number of logical qubit will be reduced by one $r\\leftarrow r-1$.\n",
    "    * To include new stabilizer-destabilizer pair to the system, apart from the steps in the update algorithm, we also need to bring the new stabilizer $S_p$ to row-$r$ and the new destabilizer $S_{\\tilde{p}}$ to row-$(N+r)$. \n",
    "    \n",
    "If update (including extension) did not happen after scanning through all the stabilizers and standby destabilizers, then we know that the measurement is classical ($G_k$ is trivial in code subspace, it must belong to the stabilizer group). So we continue to scan over the remaining active destabilizer. For each active destabilizer $S_j$ that anticommute with $G_k$, it indicates that $G_k$ contains the component of the corresponding active stabilizer $S_{\\tilde{j}}$, which should then be collected. Finally the measuremnt outcome $x_k=0,1$ is such that the following equation holds\n",
    "$$(-)^{h_k+x_k}G_k=\\prod_{\\tilde{j}}(-)^{b_{\\tilde{j}}}S_{\\tilde{j}}.$$"
   ]
  },
  {
   "cell_type": "markdown",
   "metadata": {},
   "source": [
    "#### Expect"
   ]
  },
  {
   "cell_type": "markdown",
   "metadata": {},
   "source": [
    "`.expect(obs)` evaluates the expectation values of oservables on the stabilizer state. The state will not be modified.\n",
    "\n",
    "**Parameters:**\n",
    "* `obs` - Observables in question. The following types are supported:\n",
    "    * `PauliList` - a list of Pauli operators (no need to be commuting).\n",
    "    * `StabilizerState` - stabilizers of a stabilizer state is always commuting, which can be treated as commuting observables for measurement.\n",
    "    \n",
    "\n",
    "**Returns:**\n",
    "* `xs` - expectation values in correspondance to `obs`."
   ]
  },
  {
   "cell_type": "markdown",
   "metadata": {},
   "source": [
    "Example: use the state and the observales above. The result should be consistent with the measurement outcome ($0\\to 1,1\\to-1$)."
   ]
  },
  {
   "cell_type": "code",
   "execution_count": 30,
   "metadata": {},
   "outputs": [
    {
     "data": {
      "text/plain": [
       "array([-1,  1, -1])"
      ]
     },
     "execution_count": 30,
     "metadata": {},
     "output_type": "execute_result"
    }
   ],
   "source": [
    "rho.expect(obs)"
   ]
  },
  {
   "cell_type": "markdown",
   "metadata": {},
   "source": [
    "The expectation values of Pauli operators on stabilizer states are either $0$ or $\\pm1$. The expectation value will be $\\pm1$ only if the corresponding observable is in the stabilizer group."
   ]
  },
  {
   "cell_type": "markdown",
   "metadata": {},
   "source": [
    "#### Entropy"
   ]
  },
  {
   "cell_type": "markdown",
   "metadata": {},
   "source": [
    "`.entropy(subsys)` calculates the entanglement entropy of the state in a subsystem specified by mask. \n",
    "\n",
    "**Parameters:**\n",
    "* `subsys` - Either a boolean vector specifying the subsystem: `True` = inside, `False` = outside. Or a list of qubit indices in the subsystem.\n",
    "\n",
    "**Returns:**\n",
    "* `entropy` - the entanglement entropy $S_{A}(\\rho)$ in unit of bit ($\\log_2$ base)."
   ]
  },
  {
   "cell_type": "markdown",
   "metadata": {},
   "source": [
    "Example:"
   ]
  },
  {
   "cell_type": "code",
   "execution_count": 3,
   "metadata": {},
   "outputs": [
    {
     "data": {
      "text/plain": [
       "(1, 1)"
      ]
     },
     "execution_count": 3,
     "metadata": {},
     "output_type": "execute_result"
    }
   ],
   "source": [
    "rho = qst.ghz_state(5)\n",
    "rho.entropy([True,False,True,False,False]), rho.entropy([0,2])"
   ]
  },
  {
   "cell_type": "markdown",
   "metadata": {},
   "source": [
    "**Algorithm Outline:**\n",
    "\n",
    "Definition of entanglement entropy:\n",
    "$$S_A(\\rho)=-\\mathrm{Tr}_{A}\\rho_A\\log_2\\rho_A,$$\n",
    "where $\\rho_A = \\mathrm{Tr}_{\\bar{A}}\\rho$. For stabilizer states the entanglement spectrum is flat, so there is no difference between any Renyi orders. The entanglement entropy can be calculated by counting stabilizers.\n",
    "\n",
    "Let $\\Sigma=\\{S_k\\}$ be the set of stabilizers that stabilize the state $\\rho$. Let $\\Sigma_A=\\mathrm{Tr}_{\\bar{A}}\\Sigma$ be the subset of stabilizers supported in $A$, $\\Sigma_{\\bar{A}}=\\mathrm{Tr}_{A}\\Sigma$ be the subset of stabilizers supported in $\\bar{A}$, and $\\Sigma_{A,\\bar{A}}=\\Sigma-\\Sigma_{A}-\\Sigma_{\\bar{A}}$ be the subset of stabilizers across $A$ and $\\bar{A}$. Stabilizers in $\\Sigma_A$ are definitely stabilizers of subsystem $A$. Howerever, there can be hidden stabilizers of $A$ in $\\Sigma_{A,\\bar{A}}$. \n",
    "\n",
    "To reveal the hidden stabilizers, we can rewrite each stabilizer $S_k\\in \\Sigma_{A,\\bar{A}}$ as a direct product $S_{k}^{A}\\otimes S_{k}^{\\bar{A}}$ explicitly, where $S_{k}^{A(\\bar{A})}$ is the part of the Pauli operator $S_{k}$ that acts on the subsystem $A$($\\bar{A}$). While $S_{k}$ are independent and commuting with each other, their restrictions $S_{k}^{A}$ may not be independent and commuting. The statement is that the hidden stabilizers are the generators of the center of the Pauli group generated by $S_{k}^{A}$, i.e. the hidden stabilizers are independnt and commuting elements made of nontrivial products of $S_{k}^{A}$.\n",
    "\n",
    "To reveal the center, we can first construct the anticommutation indicator matrix\n",
    "$$M_{k,k'}=\\left\\{\\begin{array}{ll}1 & \\{S_{k}^{A},S_{k}^{\\bar{A}}\\}=0,\\\\ 0 & \\text{otherwise}.\\end{array}\\right.$$\n",
    "It can be shown that the center corresponds to the dimension of the modulo-2 null space of the integer matrix $M$.\n",
    "\n",
    "* If $\\rho$ is a mixed state: the entanglement entropy = # of subsystem qubits - # of strictly inside stabilizers - # of hidden stabilizers (nullity of $\\Sigma_{A,\\bar{A}}|_{A}$)\n",
    "  $$S_{A}(\\rho) = |A|-|\\Sigma_{A}|-|\\mathrm{null}(\\Sigma_{A,\\bar{A}}|_{A})|.$$"
   ]
  },
  {
   "cell_type": "markdown",
   "metadata": {},
   "source": [
    "#### Tokenize"
   ]
  },
  {
   "cell_type": "markdown",
   "metadata": {},
   "source": [
    "`.tokenize()` tokenize the stabilizer basis. This could be useful for machine learning tasks, where tokens can be processed by NLP techniques.\n",
    "\n",
    "**Rules:**\n",
    "* 0 = I\n",
    "* 1 = X\n",
    "* 2 = Y\n",
    "* 3 = Z\n",
    "* 4 = +\n",
    "* 5 = -\n",
    "* 6 = +i\n",
    "* 7 = -i\n",
    "\n",
    "Example:"
   ]
  },
  {
   "cell_type": "code",
   "execution_count": 9,
   "metadata": {},
   "outputs": [
    {
     "name": "stdout",
     "output_type": "stream",
     "text": [
      "state:\n",
      "StabilizerState(\n",
      "   -YIIII\n",
      "   +IYZXZ\n",
      "   +IIZYY\n",
      "   +YZYZY\n",
      "   +YIIXZ)\n"
     ]
    },
    {
     "data": {
      "text/plain": [
       "array([[2, 0, 0, 0, 0, 5],\n",
       "       [0, 2, 3, 1, 3, 4],\n",
       "       [0, 0, 3, 2, 2, 4],\n",
       "       [2, 3, 2, 3, 2, 4],\n",
       "       [2, 0, 0, 1, 3, 4]])"
      ]
     },
     "execution_count": 9,
     "metadata": {},
     "output_type": "execute_result"
    }
   ],
   "source": [
    "rho = qst.random_clifford_state(5)\n",
    "print('state:\\n{}'.format(rho))\n",
    "rho.tokenize()"
   ]
  },
  {
   "cell_type": "markdown",
   "metadata": {},
   "source": [
    "#### Sample"
   ]
  },
  {
   "cell_type": "markdown",
   "metadata": {},
   "source": [
    "`.sample(L)` sample $L$ stabilizers from the stabilizer group.\n",
    "\n",
    "Example: stabilizers are returned as a `PauliList`."
   ]
  },
  {
   "cell_type": "code",
   "execution_count": 10,
   "metadata": {},
   "outputs": [
    {
     "data": {
      "text/plain": [
       " -IZYZY\n",
       " +IXYIZ\n",
       " -IYIYY"
      ]
     },
     "execution_count": 10,
     "metadata": {},
     "output_type": "execute_result"
    }
   ],
   "source": [
    "rho.sample(3)"
   ]
  },
  {
   "cell_type": "markdown",
   "metadata": {},
   "source": [
    "The sampled stabilizers can be further tokenized."
   ]
  },
  {
   "cell_type": "code",
   "execution_count": 11,
   "metadata": {},
   "outputs": [
    {
     "data": {
      "text/plain": [
       "array([[0, 0, 0, 0, 0, 4],\n",
       "       [2, 2, 3, 0, 0, 4],\n",
       "       [2, 2, 3, 1, 3, 5]])"
      ]
     },
     "execution_count": 11,
     "metadata": {},
     "output_type": "execute_result"
    }
   ],
   "source": [
    "rho.sample(3).tokenize()"
   ]
  },
  {
   "cell_type": "markdown",
   "metadata": {},
   "source": [
    "## Algorithm Details"
   ]
  },
  {
   "cell_type": "markdown",
   "metadata": {},
   "source": [
    "### Internal Representations"
   ]
  },
  {
   "cell_type": "markdown",
   "metadata": {},
   "source": [
    "#### Stabilizer State"
   ]
  },
  {
   "cell_type": "markdown",
   "metadata": {},
   "source": [
    "A $[[N,r]]$ stabilizer state ($N$ physical qubits encoding $r$ logical qubits) is describe by the **density matrix** of the following form:\n",
    "$$\\rho = \\frac{1}{2^r}\\prod_{k=1}^{N-r}\\frac{1+(-)^{b_k}S_k}{2}=\\frac{1}{2^N}\\sum_{S\\in\\mathcal{S}}S.$$\n",
    "* Each stabilizer $S_k$ is a (non-trivial) Pauli operator defined on totally $N$ qubits. The stabilizers commute with each other $[S_k,S_{k'}]=0$. They generate an Abelian subgroup $\\mathcal{S}=\\{\\prod_{k=1}^{N-r} S_k^{a_k}|a_k=0,1\\}$ of the $N$-qubit Pauli group, called the *stabilizer group*.\n",
    "* Each sign indicator $b_k=0,1$ is a binary variable specifying the eigen space of the stabilizer.\n",
    "* There are totally $N-r$ stabilizers for a $[N,r]$ stablizer code (of code rate: $r/N$). The simultaneous eigenspace of all stabilizers constitutes the *code subspace*. \n",
    "* The code subspace is $2^r$ dimensional (which is also the rank of the density matrix $\\rho$). The stabilizer state $\\rho$ is always defined to be the maximally mixed state in the code subspace, such that $\\rho$ is also the **projection operator** that projects any state into the code subspace."
   ]
  },
  {
   "cell_type": "markdown",
   "metadata": {},
   "source": [
    "#### Stabilizer Tableau"
   ]
  },
  {
   "cell_type": "markdown",
   "metadata": {},
   "source": [
    "Each stabilizer state is internally stored in the form of a **stabilizer tableau** $S$, together with the **sign indicator** $b$. For a $[[N,r]]$ stabilizer state, its stabilizer tableau is a $2N\\times 2N$ matrix of the following structure"
   ]
  },
  {
   "cell_type": "markdown",
   "metadata": {},
   "source": [
    "<img src=\"fig_tableau.png\" alt=\"stabilizer tableau.\" style=\"width: 320px;\"/>"
   ]
  },
  {
   "cell_type": "markdown",
   "metadata": {},
   "source": [
    "* Each row is a binary representation $(x,z)$ of a Pauli oparator $\\sigma_{(x,z)}$.\n",
    "* Totally $2N$ Pauli operators grouped into $N$ stabilizers and $N$ destabilizers, such that for $i,j=0,\\cdots,2N-1$:\n",
    "$$\\sigma_{g_{i}}\\sigma_{g_{j}}=(-)^{\\delta_{i+N,j}-\\delta_{j+N,i}}\\sigma_{g_{j}}\\sigma_{g_{i}},$$\n",
    "i.e. the $i$th stabilizer only anticommute with the $i$th destabilizer and they commute with all the other operators in the tableau.\n",
    "* The rows $r:N$ correspond to the $N-r$ active stabilizers $S_k$, which stabilize the code subspace (impleted as projection operators). The rows $0:r$ corresponds to the $r$ standby (inactive) stabilizers that does not realy stabilizer the code subspace (but they will act as logical operators in the code subspace).\n",
    "* The rows $N+r:2N$ correspond to the $N-r$ active destabilizers that anticommute with the active stabilizers. The rows $N:N+r$ correspond to the $r$ standby destabilizers taht anticommute with the standby stabilizers.\n",
    "\n",
    "Although the stabilizer state is only specified by the active stabilizers, the other operators in the stabilizer tableau are still important in order to complete the operator basis. Such that the tableau can specify an unitary operator in the Clifford group that generate the state. The algorithm must mantain the algebraic structure betwen all stabilizers and destabilizers while updating the tableau."
   ]
  },
  {
   "cell_type": "markdown",
   "metadata": {},
   "source": [
    "Example: take a stabilizer state"
   ]
  },
  {
   "cell_type": "code",
   "execution_count": 14,
   "metadata": {},
   "outputs": [
    {
     "data": {
      "text/plain": [
       "StabilizerState(\n",
       "   -XIXXI\n",
       "   -ZZYXI\n",
       "   -ZZYIZ\n",
       "   -ZIYIZ\n",
       "   +IIZZX)"
      ]
     },
     "execution_count": 14,
     "metadata": {},
     "output_type": "execute_result"
    }
   ],
   "source": [
    "rho = qst.random_clifford_state(5)\n",
    "rho"
   ]
  },
  {
   "cell_type": "markdown",
   "metadata": {},
   "source": [
    "The stabilizer tableau is given by `StabilizerState.gs`"
   ]
  },
  {
   "cell_type": "code",
   "execution_count": 15,
   "metadata": {},
   "outputs": [
    {
     "data": {
      "text/plain": [
       "array([[1, 0, 0, 0, 1, 0, 1, 0, 0, 0],\n",
       "       [0, 1, 0, 1, 1, 1, 1, 0, 0, 0],\n",
       "       [0, 1, 0, 1, 1, 1, 0, 0, 0, 1],\n",
       "       [0, 1, 0, 0, 1, 1, 0, 0, 0, 1],\n",
       "       [0, 0, 0, 0, 0, 1, 0, 1, 1, 0],\n",
       "       [1, 0, 0, 0, 0, 1, 0, 0, 0, 0],\n",
       "       [1, 1, 0, 1, 1, 0, 1, 1, 0, 0],\n",
       "       [1, 1, 1, 0, 1, 0, 0, 1, 0, 1],\n",
       "       [1, 1, 1, 1, 1, 0, 0, 1, 1, 1],\n",
       "       [0, 1, 0, 0, 1, 1, 0, 0, 0, 0]])"
      ]
     },
     "execution_count": 15,
     "metadata": {},
     "output_type": "execute_result"
    }
   ],
   "source": [
    "rho.gs"
   ]
  },
  {
   "cell_type": "markdown",
   "metadata": {},
   "source": [
    "The phase indicator is a $N$ vector, which keeps the phase (in unit of $\\pi/2$) of the stabilizers."
   ]
  },
  {
   "cell_type": "code",
   "execution_count": 16,
   "metadata": {},
   "outputs": [
    {
     "data": {
      "text/plain": [
       "array([2, 2, 2, 2, 0, 2, 0, 0, 0, 0])"
      ]
     },
     "execution_count": 16,
     "metadata": {},
     "output_type": "execute_result"
    }
   ],
   "source": [
    "rho.ps"
   ]
  },
  {
   "cell_type": "markdown",
   "metadata": {},
   "source": [
    "### Random Stabilizer Algorithm"
   ]
  },
  {
   "cell_type": "markdown",
   "metadata": {},
   "source": [
    "The algorithm generates a random stabilizer tableau, corresponding to a uniformly sampled element in the global Clifford group. The problem can be solved iteratively. \n",
    "* Let $(\\mathcal{S}_{N-1}, \\mathcal{D}_{N-1})$ be the sets of stabilizers and destabilizers (paired up) of $(N-1)$ qubits.\n",
    "* The sets can be expanded to $N$ qubits by\n",
    "$$\\mathcal{S}_{N}:\\left\\{\\begin{array}{ll}\n",
    "S_0=U (Z\\otimes I^{\\otimes (N-1)}) U^\\dagger & \\\\\n",
    "S_{i+1}=U (I\\otimes S'_{i}) U^\\dagger & \\text{for }S_i\\in \\mathcal{S}_{N-1}\n",
    "\\end{array}\\right.$$\n",
    "$$\\mathcal{D}_{N}:\\left\\{\\begin{array}{ll}\n",
    "D_0=U (\\left\\{\\begin{array}{c}X\\\\Y\\end{array}\\right\\}\\otimes I^{\\otimes (N-1)}) U^\\dagger & \\\\\n",
    "D_{i+1}=U (I\\otimes D'_{i}) U^\\dagger & \\text{for }D_i\\in \\mathcal{D}_{N-1}\n",
    "\\end{array}\\right.$$\n",
    "where $U$ is a random Clifford rotation on $N$ qubits.\n",
    "* $U$ can be generated by first sample a random pair of stabilizer $S_0$ and destablizer $D_0$, and then find the Clifford rotion to diagonalize them to the first qubit."
   ]
  },
  {
   "cell_type": "markdown",
   "metadata": {},
   "source": [
    "#### Random Stabilizer-Destabilizer Pair"
   ]
  },
  {
   "cell_type": "markdown",
   "metadata": {},
   "source": [
    "Using binary representation of Pauli operators,\n",
    "* Generate a random non-trivial stabilizer $S_0$ by sampling a binary array of $2N$ components, excluding the all-0 case. (If all-0 array is sampled, reject it and resample, until the vector is not all zero).\n",
    "* Generate a random destabilizer $D_0$ by \n",
    "    * first sampling a binary array of $2N$ components,\n",
    "    * if $D_0$ anticommute with $S_0$: we are done,\n",
    "    * if $D_0$ commute with $S_0$: pick the first nontrivial qubit on which $S_0$ acts, modify the corresponding $D_0$ operator on that qubit to flip the commutation relation. The modification is given by the following table.\n",
    "    \n",
    "| S\\D  | I 00 | X 10 | Y 11 | Z 01 |\n",
    "|------|------|------|------|------|\n",
    "| X 10 | Z 01 | Y 11 | X 10 | I 00 |\n",
    "| Y 11 | X 10 | I 00 | Z 01 | Y 11 |\n",
    "| Z 01 | Y 11 | Z 01 | I 00 | X 10 |\n",
    "\n",
    "The rule is:\n",
    "$$x_i^{(D)} \\to x_i^{(D)} + z_i^{(S)}, \\quad z_i^{(D)}\\to z_i^{(D)} + x_i^{(S)} + z_i^{(S)}$$"
   ]
  },
  {
   "cell_type": "markdown",
   "metadata": {},
   "source": [
    "#### Find Clifford Rotation"
   ]
  },
  {
   "cell_type": "markdown",
   "metadata": {},
   "source": [
    "To diagonalize $S_0\\to Z_0$ and $D_0\\to X_0\\text{ or }Y_0$.\n",
    "* First diagonalize $S_0$ by\n",
    "    * If $S_0$ commute with $Z_0$,\n",
    "        * If $S_0=I_0\\otimes A$, take the first non-trivial qubit of $A$, permute it cyclically among $X,Y,Z$ to create $B$, then\n",
    "        $$X_0\\otimes B: S_0\\to X_0\\otimes AB$$\n",
    "        * If $S_0=Z_0\\otimes A$:\n",
    "        $$X_0\\otimes A:S_0\\to Y_0\\otimes I$$\n",
    "        * Now $S_0$ has been transformed to anticommute with $Z_0$.\n",
    "    * If $S_0$ anticommute with $Z_0$:\n",
    "       $$S_0Z_0: S_0\\to Z_0\\otimes I$$\n",
    "* Now $S_0=Z_0\\otimes I$, $D_0$ must have been transformed to the form $D_0=\\begin{array}{c}X_0\\\\ Y_0\\end{array}\\otimes C$.\n",
    "* Then diagonalize $D_0$ by:\n",
    "$$Z_0\\otimes C: Z_0\\otimes I\\to Z_0\\otimes I, D_0\\to \\begin{array}{c}X_0\\\\ Y_0\\end{array}\\otimes I.$$\n",
    "\n",
    "Collect the Clifford roations along the way and apply them in reverse order to scramble the stabilizers in $(\\mathcal{S}_{N-1}, \\mathcal{D}_{N-1})$ to the $N$ qubit system."
   ]
  },
  {
   "cell_type": "markdown",
   "metadata": {},
   "source": [
    "### Classes"
   ]
  },
  {
   "cell_type": "markdown",
   "metadata": {},
   "source": [
    "#### `StabilizerState` Class"
   ]
  },
  {
   "cell_type": "markdown",
   "metadata": {},
   "source": [
    "`StabilizerState(pauli_list)` represents a stabilizer state whose stabilizer tableau is specified by the given pauli list.\n",
    "\n",
    "**Parameters:**\n",
    "* `pauli_list` is a `PauliList` object containing:\n",
    "    * `pauli_list.gs`: the stabilizer tableau (stabilizers + destabilizers)\n",
    "    * `pauli_list.ps`: phase indicators (for both stabilizers and destabilizers)"
   ]
  },
  {
   "cell_type": "code",
   "execution_count": 19,
   "metadata": {},
   "outputs": [
    {
     "data": {
      "text/plain": [
       "{'gs': array([[1, 0, 1, 0],\n",
       "        [0, 1, 0, 1],\n",
       "        [0, 0, 0, 1],\n",
       "        [1, 0, 0, 0]]),\n",
       " 'ps': array([0, 2, 0, 0]),\n",
       " 'r': 0}"
      ]
     },
     "execution_count": 19,
     "metadata": {},
     "output_type": "execute_result"
    }
   ],
   "source": [
    "qst.stabilizer_state('XX','-ZZ').__dict__"
   ]
  },
  {
   "cell_type": "markdown",
   "metadata": {},
   "source": [
    "#### `CliffordMap` Class"
   ]
  },
  {
   "cell_type": "markdown",
   "metadata": {},
   "source": [
    "`CliffordMap(pauli_list)` represents a Clifford map that maps Pauli operators to Pauli operators, which is specified by how each $X$ and $Z$ operator gets mapped to a generic Pauli operator\n",
    "$$\\begin{array}{l}\n",
    "X_0 \\to P_0,\\\\\n",
    "Z_0 \\to P_1,\\\\\n",
    "X_1 \\to P_2,\\\\\n",
    "Z_1 \\to P_3,\\\\\n",
    "\\cdots\n",
    "\\end{array}$$\n",
    "where the image of the map $\\{P_k\\}$ are given by the Pauli list.\n",
    "\n",
    "**Parameters:**\n",
    "* `pauli_list` is a `PauliList` object that specifies the image of the Clifford map."
   ]
  }
 ],
 "metadata": {
  "kernelspec": {
   "display_name": "Python 3 (ipykernel)",
   "language": "python",
   "name": "python3"
  },
  "language_info": {
   "codemirror_mode": {
    "name": "ipython",
    "version": 3
   },
   "file_extension": ".py",
   "mimetype": "text/x-python",
   "name": "python",
   "nbconvert_exporter": "python",
   "pygments_lexer": "ipython3",
   "version": "3.9.12"
  }
 },
 "nbformat": 4,
 "nbformat_minor": 4
}
