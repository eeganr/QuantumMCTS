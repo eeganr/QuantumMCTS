{
 "cells": [
  {
   "cell_type": "code",
   "execution_count": 1,
   "metadata": {},
   "outputs": [],
   "source": [
    "from context import *"
   ]
  },
  {
   "cell_type": "markdown",
   "metadata": {},
   "source": [
    "# Clifford Circuit (`clifford`)"
   ]
  },
  {
   "cell_type": "markdown",
   "metadata": {},
   "source": [
    "## Basic Usage"
   ]
  },
  {
   "cell_type": "markdown",
   "metadata": {},
   "source": [
    "### Constructors"
   ]
  },
  {
   "cell_type": "markdown",
   "metadata": {},
   "source": [
    "#### Identity Circuit"
   ]
  },
  {
   "cell_type": "markdown",
   "metadata": {},
   "source": [
    "`identity_circuit(N)` constructs an identity circuit of $N$ qubits. This will be an empty circuit (without any gate)."
   ]
  },
  {
   "cell_type": "code",
   "execution_count": 2,
   "metadata": {},
   "outputs": [
    {
     "data": {
      "text/plain": [
       "CliffordCircuit(\n",
       "  ||)"
      ]
     },
     "execution_count": 2,
     "metadata": {},
     "output_type": "execute_result"
    }
   ],
   "source": [
    "qst.identity_circuit(5)"
   ]
  },
  {
   "cell_type": "markdown",
   "metadata": {},
   "source": [
    "If the qubit number is not specified, it will represent a generic identity circuit which could potentially be applied to unspecified number of qubits."
   ]
  },
  {
   "cell_type": "code",
   "execution_count": 3,
   "metadata": {},
   "outputs": [
    {
     "data": {
      "text/plain": [
       "CliffordCircuit(\n",
       "  ||)"
      ]
     },
     "execution_count": 3,
     "metadata": {},
     "output_type": "execute_result"
    }
   ],
   "source": [
    "qst.identity_circuit()"
   ]
  },
  {
   "cell_type": "markdown",
   "metadata": {},
   "source": [
    "#### Random Clifford Circuits"
   ]
  },
  {
   "cell_type": "markdown",
   "metadata": {},
   "source": [
    "`brickwall_rcc(N, depth)` constructs a brickwall random Clifford circuit of $N$ qubits with depth $d$.\n",
    "* $N$ must be even.\n",
    "* periodic boundary condition is assumed."
   ]
  },
  {
   "cell_type": "code",
   "execution_count": 3,
   "metadata": {},
   "outputs": [
    {
     "data": {
      "text/plain": [
       "CliffordCircuit(\n",
       "  |[1,2][3,4][5,0]|\n",
       "  |[0,1][2,3][4,5]|)"
      ]
     },
     "execution_count": 3,
     "metadata": {},
     "output_type": "execute_result"
    }
   ],
   "source": [
    "qst.brickwall_rcc(6, 2)"
   ]
  },
  {
   "cell_type": "markdown",
   "metadata": {},
   "source": [
    "`onsite_rcc(N)` constructs an on-site (local) random Clifford circuit of $N$ qubits."
   ]
  },
  {
   "cell_type": "code",
   "execution_count": 4,
   "metadata": {},
   "outputs": [
    {
     "data": {
      "text/plain": [
       "CliffordCircuit(\n",
       "  |[0][1][2][3][4]|)"
      ]
     },
     "execution_count": 4,
     "metadata": {},
     "output_type": "execute_result"
    }
   ],
   "source": [
    "qst.onsite_rcc(5)"
   ]
  },
  {
   "cell_type": "markdown",
   "metadata": {},
   "source": [
    "`global_rcc(N)` constructs a global random Clifford circuit of $N$ qubits."
   ]
  },
  {
   "cell_type": "code",
   "execution_count": 5,
   "metadata": {},
   "outputs": [
    {
     "data": {
      "text/plain": [
       "CliffordCircuit(\n",
       "  |[0,1,2,3,4]|)"
      ]
     },
     "execution_count": 5,
     "metadata": {},
     "output_type": "execute_result"
    }
   ],
   "source": [
    "qst.global_rcc(5)"
   ]
  },
  {
   "cell_type": "markdown",
   "metadata": {},
   "source": [
    "#### Specify Gate Arrangement"
   ]
  },
  {
   "cell_type": "markdown",
   "metadata": {},
   "source": [
    "Construct random Clifford circuit with general gate arrangement."
   ]
  },
  {
   "cell_type": "code",
   "execution_count": 4,
   "metadata": {},
   "outputs": [],
   "source": [
    "circ = qst.identity_circuit()"
   ]
  },
  {
   "cell_type": "markdown",
   "metadata": {},
   "source": [
    "Use `.gate(*qubits)` to add random Clifford gates to the circuit."
   ]
  },
  {
   "cell_type": "code",
   "execution_count": 5,
   "metadata": {},
   "outputs": [
    {
     "data": {
      "text/plain": [
       "CliffordCircuit(\n",
       "  |[3,4]|\n",
       "  |[1,4][0,2]|\n",
       "  |[0,1][2,4][3,5]|)"
      ]
     },
     "execution_count": 5,
     "metadata": {},
     "output_type": "execute_result"
    }
   ],
   "source": [
    "circ.gate(0,1)\n",
    "circ.gate(2,4)\n",
    "circ.gate(1,4)\n",
    "circ.gate(0,2)\n",
    "circ.gate(3,5)\n",
    "circ.gate(3,4)\n",
    "circ"
   ]
  },
  {
   "cell_type": "markdown",
   "metadata": {},
   "source": [
    "Gates will automatically arranged into layers. Each new gate added to the circuit will commute through the layers if it is not blocked by the existing gates."
   ]
  },
  {
   "cell_type": "code",
   "execution_count": 6,
   "metadata": {},
   "outputs": [
    {
     "data": {
      "text/plain": [
       "6"
      ]
     },
     "execution_count": 6,
     "metadata": {},
     "output_type": "execute_result"
    }
   ],
   "source": [
    "circ.N"
   ]
  },
  {
   "cell_type": "markdown",
   "metadata": {},
   "source": [
    "**Note**: If the number of qubits was not explicitly defined, it will be dynamically infered from the circuit width, as the largest qubit index of all gates + 1."
   ]
  },
  {
   "cell_type": "markdown",
   "metadata": {},
   "source": [
    "#### Navigate in the Circuit"
   ]
  },
  {
   "cell_type": "markdown",
   "metadata": {},
   "source": [
    "`.layers_forward()` and `.layers_backward()` provides two generators to iterate over layers in forward and backward order resepctively."
   ]
  },
  {
   "cell_type": "code",
   "execution_count": 7,
   "metadata": {},
   "outputs": [
    {
     "data": {
      "text/plain": [
       "[|[0,1][2,4][3,5]|, |[1,4][0,2]|, |[3,4]|]"
      ]
     },
     "execution_count": 7,
     "metadata": {},
     "output_type": "execute_result"
    }
   ],
   "source": [
    "list(circ.layers_forward())"
   ]
  },
  {
   "cell_type": "code",
   "execution_count": 8,
   "metadata": {},
   "outputs": [
    {
     "data": {
      "text/plain": [
       "[|[3,4]|, |[1,4][0,2]|, |[0,1][2,4][3,5]|]"
      ]
     },
     "execution_count": 8,
     "metadata": {},
     "output_type": "execute_result"
    }
   ],
   "source": [
    "list(circ.layers_backward())"
   ]
  },
  {
   "cell_type": "markdown",
   "metadata": {},
   "source": [
    "`.first_layer` and `.last_layer` points to the first and the last layers."
   ]
  },
  {
   "cell_type": "code",
   "execution_count": 9,
   "metadata": {},
   "outputs": [
    {
     "data": {
      "text/plain": [
       "|[0,1][2,4][3,5]|"
      ]
     },
     "execution_count": 9,
     "metadata": {},
     "output_type": "execute_result"
    }
   ],
   "source": [
    "circ.first_layer"
   ]
  },
  {
   "cell_type": "code",
   "execution_count": 10,
   "metadata": {},
   "outputs": [
    {
     "data": {
      "text/plain": [
       "|[3,4]|"
      ]
     },
     "execution_count": 10,
     "metadata": {},
     "output_type": "execute_result"
    }
   ],
   "source": [
    "circ.last_layer"
   ]
  },
  {
   "cell_type": "markdown",
   "metadata": {},
   "source": [
    "Use `.next_layer` and `.prev_layer` to move forward and backward."
   ]
  },
  {
   "cell_type": "code",
   "execution_count": 11,
   "metadata": {},
   "outputs": [
    {
     "data": {
      "text/plain": [
       "(|[1,4][0,2]|, |[1,4][0,2]|)"
      ]
     },
     "execution_count": 11,
     "metadata": {},
     "output_type": "execute_result"
    }
   ],
   "source": [
    "circ.first_layer.next_layer, circ.last_layer.prev_layer"
   ]
  },
  {
   "cell_type": "markdown",
   "metadata": {},
   "source": [
    "Locate a gate in the circuit."
   ]
  },
  {
   "cell_type": "code",
   "execution_count": 12,
   "metadata": {},
   "outputs": [
    {
     "data": {
      "text/plain": [
       "[3,4]"
      ]
     },
     "execution_count": 12,
     "metadata": {},
     "output_type": "execute_result"
    }
   ],
   "source": [
    "circ.first_layer.next_layer.next_layer.gates[0]"
   ]
  },
  {
   "cell_type": "markdown",
   "metadata": {},
   "source": [
    "### `CliffordCircuit` Methods"
   ]
  },
  {
   "cell_type": "markdown",
   "metadata": {},
   "source": [
    "#### Circuit Construction"
   ]
  },
  {
   "cell_type": "markdown",
   "metadata": {},
   "source": [
    "`.gate(*qubits)` append a **random Clifford gate** to the circuit that acts on a set of specified qubits.\n",
    "* The gate that is first added to the circuit will be first applied on the state (in forward transformation).\n",
    "* Two gates are independent if they acts on disjoint set of qubits. Independent gates can be applied in the same layer simutaneously.\n",
    "* If a new gate adding to the circuit is not independent of the existing gates on the top layer, it will be added to a new layer."
   ]
  },
  {
   "cell_type": "code",
   "execution_count": 6,
   "metadata": {},
   "outputs": [
    {
     "data": {
      "text/plain": [
       "CliffordCircuit(\n",
       "  |[2,3,5]|\n",
       "  |[1][3,4]|)"
      ]
     },
     "execution_count": 6,
     "metadata": {},
     "output_type": "execute_result"
    }
   ],
   "source": [
    "qst.identity_circuit(5).gate(1).gate(3,4).gate(2,3,5)"
   ]
  },
  {
   "cell_type": "markdown",
   "metadata": {},
   "source": [
    "`.take(gate)` takes in a specific `CliffordGate` object `gate` and append it to the circuit. Gate will be automatically arranged in the circuit."
   ]
  },
  {
   "cell_type": "code",
   "execution_count": 4,
   "metadata": {},
   "outputs": [
    {
     "data": {
      "text/plain": [
       "CliffordCircuit(\n",
       "  |[1,2]|)"
      ]
     },
     "execution_count": 4,
     "metadata": {},
     "output_type": "execute_result"
    }
   ],
   "source": [
    "qst.identity_circuit(5).take(qst.clifford_rotation_gate('-IXYII'))"
   ]
  },
  {
   "cell_type": "markdown",
   "metadata": {},
   "source": [
    "`.compose(circ)` composes the circuit with another circuit. When acting on an object, the first circuit will be applied first (in forward transformation)."
   ]
  },
  {
   "cell_type": "code",
   "execution_count": 17,
   "metadata": {},
   "outputs": [
    {
     "data": {
      "text/plain": [
       "(CliffordCircuit(\n",
       "   |[2,3,5]|\n",
       "   |[1][3,4]|),\n",
       " CliffordCircuit(\n",
       "   |[4,5]|\n",
       "   |[4][1]|))"
      ]
     },
     "execution_count": 17,
     "metadata": {},
     "output_type": "execute_result"
    }
   ],
   "source": [
    "circ1 = qst.identity_circuit(5).gate(1).gate(3,4).gate(2,3,5)\n",
    "circ2 = qst.identity_circuit(5).gate(4).gate(4,5).gate(1)\n",
    "circ1, circ2"
   ]
  },
  {
   "cell_type": "code",
   "execution_count": 18,
   "metadata": {},
   "outputs": [
    {
     "data": {
      "text/plain": [
       "CliffordCircuit(\n",
       "  |[4,5]|\n",
       "  |[2,3,5][4][1]|\n",
       "  |[1][3,4]|)"
      ]
     },
     "execution_count": 18,
     "metadata": {},
     "output_type": "execute_result"
    }
   ],
   "source": [
    "circ1.compose(circ2)"
   ]
  },
  {
   "cell_type": "markdown",
   "metadata": {},
   "source": [
    "**Side Effects:** `.gate`, `.take`, `.compose` are all in-place operations, meaning that the circuit who initiate these method will be modified by these methods. \n",
    "\n",
    "`.copy()` returns a new copy of the circuit, which can be used before the in-place operations to prevent the original circuit to be ."
   ]
  },
  {
   "cell_type": "markdown",
   "metadata": {},
   "source": [
    "#### Unitary Transformation"
   ]
  },
  {
   "cell_type": "markdown",
   "metadata": {},
   "source": [
    "`CliffordCircuit` can be applied to many objects and implement the unitary transformation. The object only need to be a subclass of `PauliList`. It can be either a state (`StablizerStates`), or an operator (`PauliPolynomial`), or a unitary map (`CliffordMap`).\n",
    "\n",
    "* `.forward(obj)` unitary transform the object forward\n",
    "* `.backward(obj)` unitary transform the object backward\n",
    "\n",
    "**Side Effect:** the transformation is implemented on the object in-place, meaning that the object will be modified by the  unitary transformation.\n",
    "\n",
    "**Randomness:** The **random Clifford circuit** is not a fixed circuit but an **ensemble of circuits**. When applying a random unitary circuit on an object, everytime the transformation will be *different* (random Clifford gates will be sampled on the fly). Because of this reason, random Clifford circuits *can not* be compiled.\n",
    "\n",
    "Example: create a state and a circuit"
   ]
  },
  {
   "cell_type": "code",
   "execution_count": 22,
   "metadata": {},
   "outputs": [
    {
     "data": {
      "text/plain": [
       "(StabilizerState(\n",
       "    +IX\n",
       "    -ZI),\n",
       " CliffordCircuit(\n",
       "   |[0]|\n",
       "   |[0,1]|))"
      ]
     },
     "execution_count": 22,
     "metadata": {},
     "output_type": "execute_result"
    }
   ],
   "source": [
    "rho = qst.stabilizer_state('+IX','-ZI')\n",
    "circ = qst.identity_circuit(2)\n",
    "circ.take(qst.clifford_rotation_gate('XX'))\n",
    "circ.take(qst.clifford_rotation_gate('YI'))\n",
    "rho, circ"
   ]
  },
  {
   "cell_type": "markdown",
   "metadata": {},
   "source": [
    "Map the state forward."
   ]
  },
  {
   "cell_type": "code",
   "execution_count": 23,
   "metadata": {},
   "outputs": [
    {
     "data": {
      "text/plain": [
       "StabilizerState(\n",
       "   +IX\n",
       "   +YX)"
      ]
     },
     "execution_count": 23,
     "metadata": {},
     "output_type": "execute_result"
    }
   ],
   "source": [
    "circ.forward(rho)\n",
    "rho"
   ]
  },
  {
   "cell_type": "markdown",
   "metadata": {},
   "source": [
    "Map the state backward."
   ]
  },
  {
   "cell_type": "code",
   "execution_count": 24,
   "metadata": {},
   "outputs": [
    {
     "data": {
      "text/plain": [
       "StabilizerState(\n",
       "   +IX\n",
       "   -ZI)"
      ]
     },
     "execution_count": 24,
     "metadata": {},
     "output_type": "execute_result"
    }
   ],
   "source": [
    "circ.backward(rho)\n",
    "rho"
   ]
  },
  {
   "cell_type": "markdown",
   "metadata": {},
   "source": [
    "Unitary mappin is invertible. The original state is restored."
   ]
  },
  {
   "cell_type": "markdown",
   "metadata": {},
   "source": [
    "#### Circuit Compilation"
   ]
  },
  {
   "cell_type": "markdown",
   "metadata": {},
   "source": [
    "`.compile()` compiles the Clifford circuit into a single clifford map, such that the unitary transformation can be implemented more efficiently.\n",
    "\n",
    "* Before compilation, the circuit forward and backward maps are not specified. The unitary transformation will be performed by acting each layer."
   ]
  },
  {
   "cell_type": "code",
   "execution_count": 25,
   "metadata": {},
   "outputs": [
    {
     "data": {
      "text/plain": [
       "{'first_layer': |[0,1]|,\n",
       " 'last_layer': |[0]|,\n",
       " 'forward_map': None,\n",
       " 'backward_map': None,\n",
       " 'N': 2}"
      ]
     },
     "execution_count": 25,
     "metadata": {},
     "output_type": "execute_result"
    }
   ],
   "source": [
    "circ.__dict__"
   ]
  },
  {
   "cell_type": "markdown",
   "metadata": {},
   "source": [
    "* After compilation, the forward and backward maps are defined. Unitary transformation will be implemented by Clifford map."
   ]
  },
  {
   "cell_type": "code",
   "execution_count": 26,
   "metadata": {},
   "outputs": [
    {
     "data": {
      "text/plain": [
       "{'first_layer': |[0,1]|,\n",
       " 'last_layer': |[0]|,\n",
       " 'forward_map': CliffordMap(\n",
       "   X0-> -ZI\n",
       "   Z0-> -YX\n",
       "   X1-> +IX\n",
       "   Z1-> +ZY),\n",
       " 'backward_map': CliffordMap(\n",
       "   X0-> +ZI\n",
       "   Z0-> +YX\n",
       "   X1-> +IX\n",
       "   Z1-> +ZY),\n",
       " 'N': 2}"
      ]
     },
     "execution_count": 26,
     "metadata": {},
     "output_type": "execute_result"
    }
   ],
   "source": [
    "circ.compile()\n",
    "circ.__dict__"
   ]
  },
  {
   "cell_type": "markdown",
   "metadata": {},
   "source": [
    "#### POVM"
   ]
  },
  {
   "cell_type": "markdown",
   "metadata": {},
   "source": [
    "`.povm(nsample)` provides a generator to sample $n_\\text{sample}$ from the prior POVM based on the circuit by back evolution."
   ]
  },
  {
   "cell_type": "code",
   "execution_count": 3,
   "metadata": {},
   "outputs": [
    {
     "data": {
      "text/plain": [
       "[StabilizerState(\n",
       "    -XII\n",
       "    +IXI\n",
       "    +IIY),\n",
       " StabilizerState(\n",
       "    -ZII\n",
       "    -IXI\n",
       "    +IIZ),\n",
       " StabilizerState(\n",
       "    +YII\n",
       "    +IXI\n",
       "    -IIZ)]"
      ]
     },
     "execution_count": 3,
     "metadata": {},
     "output_type": "execute_result"
    }
   ],
   "source": [
    "circ = qst.onsite_rcc(3)\n",
    "list(circ.povm(3))"
   ]
  },
  {
   "cell_type": "markdown",
   "metadata": {},
   "source": [
    "## Diagonalization and SBRG"
   ]
  },
  {
   "cell_type": "markdown",
   "metadata": {},
   "source": [
    "### Diagonalization"
   ]
  },
  {
   "cell_type": "markdown",
   "metadata": {},
   "source": [
    "#### Diagonalize Pauli Operator"
   ]
  },
  {
   "cell_type": "markdown",
   "metadata": {},
   "source": [
    "`diagonalize(P, i0=0, afterward=False)` finds a Clifford circuit $R$ to bring transform a Pauli operator $P$ to a diagonal operator acting at qubit $i_0$, i.e.\n",
    "\n",
    "$$R P R^\\dagger = Z_{i_0}.$$\n",
    "\n",
    "**Parameters:**\n",
    "* `P` -  the Pauli operator to diagonalize (as a `Pauli` object).\n",
    "* `i0` - the target qubit position\n",
    "* `causal` - whether to preserve the causal structure by restricting the action of Clifford transformation to the qubits at i0 and afterwards."
   ]
  },
  {
   "cell_type": "markdown",
   "metadata": {},
   "source": [
    "Example: default behavior"
   ]
  },
  {
   "cell_type": "code",
   "execution_count": 2,
   "metadata": {},
   "outputs": [
    {
     "name": "stdout",
     "output_type": "stream",
     "text": [
      "forward map:\n",
      "CliffordMap(\n",
      "  X0-> +XI\n",
      "  Z0-> -YY\n",
      "  X1-> -XZ\n",
      "  Z1-> +XX)\n",
      "transformed operator:\n",
      " +ZI\n"
     ]
    }
   ],
   "source": [
    "P = qst.pauli('YY')\n",
    "R = qst.diagonalize(P).compile()\n",
    "print('forward map:\\n{}\\ntransformed operator:\\n{}'.format(R.forward_map, R.forward(P)))"
   ]
  },
  {
   "cell_type": "markdown",
   "metadata": {},
   "source": [
    "Specify the qubit position"
   ]
  },
  {
   "cell_type": "code",
   "execution_count": 3,
   "metadata": {},
   "outputs": [
    {
     "data": {
      "text/plain": [
       " +IIZII"
      ]
     },
     "execution_count": 3,
     "metadata": {},
     "output_type": "execute_result"
    }
   ],
   "source": [
    "P = qst.pauli('ZZIIX')\n",
    "qst.diagonalize(P, 2).forward(P)"
   ]
  },
  {
   "cell_type": "code",
   "execution_count": 4,
   "metadata": {},
   "outputs": [
    {
     "data": {
      "text/plain": [
       " +ZZZII"
      ]
     },
     "execution_count": 4,
     "metadata": {},
     "output_type": "execute_result"
    }
   ],
   "source": [
    "P = qst.pauli('ZZIIX')\n",
    "qst.diagonalize(P, 2, causal=True).forward(P)"
   ]
  },
  {
   "cell_type": "markdown",
   "metadata": {},
   "source": [
    "#### Diagonalize Stabilizer Group"
   ]
  },
  {
   "cell_type": "markdown",
   "metadata": {},
   "source": [
    "`diagonalize(rho)` finds the Clifford circuit to diagonalize the stabilizer state `rho`, by transforming to a new basis in which the stabilizer group elements are simutaneously diagonalized. \n",
    "\n",
    "**Parameters:**\n",
    "* `rho` - the stabilizer state to be diagonalized (as `StabilizerState` object)."
   ]
  },
  {
   "cell_type": "markdown",
   "metadata": {},
   "source": [
    "Example: start with a random stabilizer state"
   ]
  },
  {
   "cell_type": "code",
   "execution_count": 6,
   "metadata": {},
   "outputs": [
    {
     "data": {
      "text/plain": [
       "StabilizerState(\n",
       "   -XYXIZ\n",
       "   +IZIYX\n",
       "   +ZXIXI\n",
       "   +IYZZX\n",
       "   +YIYZZ)"
      ]
     },
     "execution_count": 6,
     "metadata": {},
     "output_type": "execute_result"
    }
   ],
   "source": [
    "rho = qst.random_clifford_state(5)\n",
    "rho"
   ]
  },
  {
   "cell_type": "markdown",
   "metadata": {},
   "source": [
    "Find the Clifford circuit to diagonalize the state"
   ]
  },
  {
   "cell_type": "code",
   "execution_count": 7,
   "metadata": {},
   "outputs": [
    {
     "data": {
      "text/plain": [
       "StabilizerState(\n",
       "   +ZIIII\n",
       "   +IZIII\n",
       "   +IIZII\n",
       "   +IIIZI\n",
       "   +IIIIZ)"
      ]
     },
     "execution_count": 7,
     "metadata": {},
     "output_type": "execute_result"
    }
   ],
   "source": [
    "R = qst.diagonalize(rho)\n",
    "R.forward(rho)"
   ]
  },
  {
   "cell_type": "markdown",
   "metadata": {},
   "source": [
    "The Clifford circuit corresponds the the following map."
   ]
  },
  {
   "cell_type": "code",
   "execution_count": 9,
   "metadata": {},
   "outputs": [
    {
     "data": {
      "text/plain": [
       "CliffordMap(\n",
       "  X0-> +IIXIY\n",
       "  Z0-> -YIIZX\n",
       "  X1-> +XYIXI\n",
       "  Z1-> +YIYXZ\n",
       "  X2-> -ZIZYX\n",
       "  Z2-> -YZZIX\n",
       "  X3-> -ZYZYX\n",
       "  Z3-> +IXXZI\n",
       "  X4-> -XIIIY\n",
       "  Z4-> +ZYIYI)"
      ]
     },
     "execution_count": 9,
     "metadata": {},
     "output_type": "execute_result"
    }
   ],
   "source": [
    "R.compile().forward_map"
   ]
  },
  {
   "cell_type": "markdown",
   "metadata": {},
   "source": [
    "### SBRG"
   ]
  },
  {
   "cell_type": "markdown",
   "metadata": {},
   "source": [
    "Diagonalize random Hamiltonian by the SBRG algorithm. See https://arxiv.org/abs/1508.03635."
   ]
  },
  {
   "cell_type": "code",
   "execution_count": 15,
   "metadata": {},
   "outputs": [
    {
     "data": {
      "text/plain": [
       "0.63 IIIX +0.11 IIZZ +0.68 IIXI +0.63 IZZI +0.17 IXII +0.81 ZIIZ +0.37 ZZII +0.47 XIII"
      ]
     },
     "execution_count": 15,
     "metadata": {},
     "output_type": "execute_result"
    }
   ],
   "source": [
    "ham = qst.pauli_zero(4)\n",
    "for i in range(4):\n",
    "    ham += numpy.random.rand() * qst.pauli({i:'Z',(i+1)%4:'Z'}, 4)\n",
    "    ham += numpy.random.rand() * qst.pauli({i:'X'}, 4)\n",
    "ham"
   ]
  },
  {
   "cell_type": "code",
   "execution_count": 17,
   "metadata": {},
   "outputs": [
    {
     "data": {
      "text/plain": [
       "(0.98 IZII -0.10 IZZI -1.19 ZIII +0.59 ZIZI +0.16 ZZIZ,\n",
       " CliffordCircuit(\n",
       "   |[3]|\n",
       "   |[2,3]|\n",
       "   |[0][1,2]|\n",
       "   |[0,3][1,2]|))"
      ]
     },
     "execution_count": 17,
     "metadata": {},
     "output_type": "execute_result"
    }
   ],
   "source": [
    "heff, circ = qst.SBRG(ham)\n",
    "heff, circ"
   ]
  },
  {
   "cell_type": "code",
   "execution_count": 18,
   "metadata": {},
   "outputs": [
    {
     "data": {
      "text/plain": [
       "0.63 YIYZ -0.11 IXZI +0.68 IZII +0.63 IXII -0.17 IZXX -0.81 ZIII +0.37 ZIZI -0.47 XIIX"
      ]
     },
     "execution_count": 18,
     "metadata": {},
     "output_type": "execute_result"
    }
   ],
   "source": [
    "circ.forward(ham.copy())"
   ]
  },
  {
   "cell_type": "markdown",
   "metadata": {},
   "source": [
    "## Algorithm Deatials"
   ]
  },
  {
   "cell_type": "markdown",
   "metadata": {},
   "source": [
    "### Classes"
   ]
  },
  {
   "cell_type": "markdown",
   "metadata": {},
   "source": [
    "#### `CliffordGate` Class"
   ]
  },
  {
   "cell_type": "markdown",
   "metadata": {},
   "source": [
    "`ClifordGate(*qubits)` represents a Clifford gate acting on a set of qubits.\n",
    "\n",
    "**Parameters**\n",
    "- `*qubits`: indices of the set of qubits on which the gate acts on."
   ]
  },
  {
   "cell_type": "markdown",
   "metadata": {},
   "source": [
    "Example:"
   ]
  },
  {
   "cell_type": "code",
   "execution_count": 20,
   "metadata": {},
   "outputs": [
    {
     "data": {
      "text/plain": [
       "{'qubits': (0, 1),\n",
       " 'n': 2,\n",
       " 'generator': None,\n",
       " 'forward_map': None,\n",
       " 'backward_map': None}"
      ]
     },
     "execution_count": 20,
     "metadata": {},
     "output_type": "execute_result"
    }
   ],
   "source": [
    "gate = qst.circuit.CliffordGate(0,1)\n",
    "gate.__dict__"
   ]
  },
  {
   "cell_type": "markdown",
   "metadata": {},
   "source": [
    "Without specifying either the generator or the forward/backward maps, the gate will be treated as a random gate. Its action on the state will be stocastic (randomly sampled every time)."
   ]
  },
  {
   "cell_type": "code",
   "execution_count": 23,
   "metadata": {},
   "outputs": [
    {
     "data": {
      "text/plain": [
       "[StabilizerState(\n",
       "    -ZZ\n",
       "    -ZI),\n",
       " StabilizerState(\n",
       "    +IZ\n",
       "    -YI),\n",
       " StabilizerState(\n",
       "    -ZY\n",
       "    +ZI)]"
      ]
     },
     "execution_count": 23,
     "metadata": {},
     "output_type": "execute_result"
    }
   ],
   "source": [
    "[gate.forward(qst.zero_state(2)) for _ in range(3)]"
   ]
  },
  {
   "cell_type": "markdown",
   "metadata": {},
   "source": [
    "If the `.generator` is specified to a Pauli operator, the gate will implement Clifford rotation generated by the Pauli operator."
   ]
  },
  {
   "cell_type": "code",
   "execution_count": 26,
   "metadata": {},
   "outputs": [
    {
     "data": {
      "text/plain": [
       "StabilizerState(\n",
       "   +YY\n",
       "   -XX)"
      ]
     },
     "execution_count": 26,
     "metadata": {},
     "output_type": "execute_result"
    }
   ],
   "source": [
    "gate = qst.circuit.CliffordGate(0,1)\n",
    "gate.generator = qst.pauli('-XY')\n",
    "gate.forward(qst.zero_state(2))"
   ]
  },
  {
   "cell_type": "markdown",
   "metadata": {},
   "source": [
    "If the `.forward_map` or the `.backward_map` is specified to a Clifford map, the gauge will implement the Clifford transformation according to the map."
   ]
  },
  {
   "cell_type": "code",
   "execution_count": 28,
   "metadata": {},
   "outputs": [
    {
     "data": {
      "text/plain": [
       "StabilizerState(\n",
       "   +YY\n",
       "   -XX)"
      ]
     },
     "execution_count": 28,
     "metadata": {},
     "output_type": "execute_result"
    }
   ],
   "source": [
    "gate = qst.circuit.CliffordGate(0,1)\n",
    "gate.forward_map = qst.clifford_rotation_map('-XY')\n",
    "gate.forward(qst.zero_state(2))"
   ]
  },
  {
   "cell_type": "code",
   "execution_count": 29,
   "metadata": {},
   "outputs": [
    {
     "data": {
      "text/plain": [
       "StabilizerState(\n",
       "   +YY\n",
       "   -XX)"
      ]
     },
     "execution_count": 29,
     "metadata": {},
     "output_type": "execute_result"
    }
   ],
   "source": [
    "gate = qst.circuit.CliffordGate(0,1)\n",
    "gate.backward_map = qst.clifford_rotation_map('XY')\n",
    "gate.forward(qst.zero_state(2))"
   ]
  },
  {
   "cell_type": "markdown",
   "metadata": {},
   "source": [
    "#### `CliffordLayer` Class"
   ]
  },
  {
   "cell_type": "markdown",
   "metadata": {},
   "source": [
    "`CliffordLayer(*gates)` represents a layer of Clifford gates. \n",
    "\n",
    "**Parameters:**\n",
    "* `*gates`: quantum gates contained in the layer."
   ]
  },
  {
   "cell_type": "markdown",
   "metadata": {},
   "source": [
    "Example:"
   ]
  },
  {
   "cell_type": "code",
   "execution_count": 34,
   "metadata": {},
   "outputs": [
    {
     "data": {
      "text/plain": [
       "|[0,1][3,5]|"
      ]
     },
     "execution_count": 34,
     "metadata": {},
     "output_type": "execute_result"
    }
   ],
   "source": [
    "gate1 = qst.circuit.CliffordGate(0,1)\n",
    "gate2 = qst.circuit.CliffordGate(3,5)\n",
    "layer = qst.circuit.CliffordLayer(gate1, gate2)\n",
    "layer"
   ]
  },
  {
   "cell_type": "code",
   "execution_count": 32,
   "metadata": {},
   "outputs": [
    {
     "data": {
      "text/plain": [
       "{'gates': [[0,1], [3,5]],\n",
       " 'prev_layer': None,\n",
       " 'next_layer': None,\n",
       " 'forward_map': None,\n",
       " 'backward_map': None}"
      ]
     },
     "execution_count": 32,
     "metadata": {},
     "output_type": "execute_result"
    }
   ],
   "source": [
    "layer.__dict__"
   ]
  },
  {
   "cell_type": "markdown",
   "metadata": {},
   "source": [
    "The gates in the same layer should not overlap with each other (all gates need to commute). To ensure this, we do not manually add gates to the layer, but using the higher level function `.gate()` provided by `CliffordCircuit` (see later)."
   ]
  },
  {
   "cell_type": "markdown",
   "metadata": {},
   "source": [
    "#### `CliffordCircuit` Class"
   ]
  },
  {
   "cell_type": "markdown",
   "metadata": {},
   "source": [
    "`CliffordCircuit()` represents a quantum circuit of random Clifford gates. It takes no parameters, and is initialized to an indentity circuit, equivalent to `identity_circuit()`."
   ]
  },
  {
   "cell_type": "markdown",
   "metadata": {},
   "source": [
    "#### Apply Circuit to State"
   ]
  },
  {
   "cell_type": "markdown",
   "metadata": {},
   "source": [
    "`.forward(state)` and `.backward(state)` applies the circuit to transform the state forward / backward. \n",
    "* Each call will sample a new random realization of the random Clifford circuit.\n",
    "* The transformation will create a new state, the original state remains untouched."
   ]
  },
  {
   "cell_type": "code",
   "execution_count": 6,
   "metadata": {},
   "outputs": [
    {
     "data": {
      "text/plain": [
       "StabilizerState(\n",
       " +ZIIIII\n",
       " +IZIIII\n",
       " +IIZIII\n",
       " +IIIZII\n",
       " +IIIIZI\n",
       " +IIIIIZ)"
      ]
     },
     "execution_count": 6,
     "metadata": {},
     "output_type": "execute_result"
    }
   ],
   "source": [
    "rho = vaeqst.StabilizerState(6, r=0)\n",
    "rho"
   ]
  },
  {
   "cell_type": "code",
   "execution_count": 7,
   "metadata": {},
   "outputs": [
    {
     "data": {
      "text/plain": [
       "StabilizerState(\n",
       " -XIXIII\n",
       " -IYIIII\n",
       " +ZYYZXI\n",
       " -IIIZIY\n",
       " -ZIYIII\n",
       " -IIIYYX)"
      ]
     },
     "execution_count": 7,
     "metadata": {},
     "output_type": "execute_result"
    }
   ],
   "source": [
    "circ.forward(rho)"
   ]
  },
  {
   "cell_type": "code",
   "execution_count": 8,
   "metadata": {},
   "outputs": [
    {
     "data": {
      "text/plain": [
       "StabilizerState(\n",
       " -ZXIIII\n",
       " +IIYIZI\n",
       " -IIZIYI\n",
       " +XZYIZZ\n",
       " +IIIIIZ\n",
       " -IIIXIZ)"
      ]
     },
     "execution_count": 8,
     "metadata": {},
     "output_type": "execute_result"
    }
   ],
   "source": [
    "circ.backward(rho)"
   ]
  }
 ],
 "metadata": {
  "kernelspec": {
   "display_name": "Python 3 (ipykernel)",
   "language": "python",
   "name": "python3"
  },
  "language_info": {
   "codemirror_mode": {
    "name": "ipython",
    "version": 3
   },
   "file_extension": ".py",
   "mimetype": "text/x-python",
   "name": "python",
   "nbconvert_exporter": "python",
   "pygments_lexer": "ipython3",
   "version": "3.9.12"
  }
 },
 "nbformat": 4,
 "nbformat_minor": 4
}
