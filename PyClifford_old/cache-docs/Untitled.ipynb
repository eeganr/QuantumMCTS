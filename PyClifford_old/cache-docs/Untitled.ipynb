{
 "cells": [
  {
   "cell_type": "code",
   "execution_count": 1,
   "id": "282d8f84-a817-4f36-80a5-4fc5dbed0095",
   "metadata": {},
   "outputs": [],
   "source": [
    "from context import *"
   ]
  },
  {
   "cell_type": "code",
   "execution_count": 3,
   "id": "9163ee85-d421-40e4-ab6f-baf41452b608",
   "metadata": {},
   "outputs": [
    {
     "data": {
      "text/plain": [
       " +XXIYZ"
      ]
     },
     "execution_count": 3,
     "metadata": {},
     "output_type": "execute_result"
    }
   ],
   "source": [
    "paulialg.pauli('XXIYZ')"
   ]
  },
  {
   "cell_type": "code",
   "execution_count": null,
   "id": "1666c3df-69f4-4768-9d73-91c4e99567b1",
   "metadata": {},
   "outputs": [],
   "source": []
  }
 ],
 "metadata": {
  "kernelspec": {
   "display_name": "Python 3",
   "language": "python",
   "name": "python3"
  },
  "language_info": {
   "codemirror_mode": {
    "name": "ipython",
    "version": 3
   },
   "file_extension": ".py",
   "mimetype": "text/x-python",
   "name": "python",
   "nbconvert_exporter": "python",
   "pygments_lexer": "ipython3",
   "version": "3.9.2"
  }
 },
 "nbformat": 4,
 "nbformat_minor": 5
}
