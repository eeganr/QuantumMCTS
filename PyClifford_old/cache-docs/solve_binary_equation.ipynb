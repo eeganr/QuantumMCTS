{
 "cells": [
  {
   "cell_type": "code",
   "execution_count": 1,
   "id": "3b14b18a-7b26-432d-8a25-b709645d8ef8",
   "metadata": {},
   "outputs": [],
   "source": [
    "%load_ext autoreload\n",
    "%autoreload 2\n",
    "from context import *"
   ]
  },
  {
   "cell_type": "markdown",
   "id": "d3bdccac-2dcc-4ffe-8865-76507049f9cd",
   "metadata": {},
   "source": [
    "This doc is about solving binary linear equation $A\\cdot x=y$"
   ]
  },
  {
   "cell_type": "markdown",
   "id": "6c0ace70-c2a6-44d0-b811-e600ce3c231a",
   "metadata": {},
   "source": [
    "We consider a non-square matrix $A_{m\\times n}$, and usually $m>n$. For example, \n",
    "$$A=\\begin{pmatrix}1 &0 &1 &0\\\\ 0 &1 &1 &0 \\\\ 1&1&1&1\\\\ 1&1&1&1\\\\ 1&1&1&1\\\\ 0&1&0&1 \\end{pmatrix}$$\n",
    "and $$y=\\begin{pmatrix}1\\\\1\\\\0\\\\0\\\\0\\\\1\\end{pmatrix}$$\n",
    "\n",
    "We want to find solution $x$ such that $A\\cdot x=y$. The solution for above equation is $x=(1,1,0,0)^{T}$ and $x=(0,0,1,1)^{T}$"
   ]
  },
  {
   "cell_type": "code",
   "execution_count": 3,
   "id": "ea8687eb-b012-42ff-903c-faf4472ea5dd",
   "metadata": {},
   "outputs": [],
   "source": [
    "from numba import njit"
   ]
  },
  {
   "cell_type": "code",
   "execution_count": 70,
   "id": "a426b328-f45e-4d01-87ad-7777b3f1ac3d",
   "metadata": {},
   "outputs": [],
   "source": [
    "@njit\n",
    "def REF(A, y):\n",
    "    '''\n",
    "    This function reduce matrix to row echelon form\n",
    "    '''\n",
    "    rank = 0\n",
    "    m,n = A.shape\n",
    "    extend_A = numpy.zeros((m,n+1), dtype=A.dtype)\n",
    "    extend_A[:,:n]=A\n",
    "    extend_A[:,-1]=y\n",
    "    for i in range(n): # scan through cols\n",
    "        found = False\n",
    "        if extend_A[i,i] == 1: # don't need pivot\n",
    "            rank += 1\n",
    "            found = True\n",
    "        elif extend_A[i,i] == 0: #need to find pivot\n",
    "            for k in range(i+1,m):\n",
    "                if extend_A[k, i]: # a[k, i] nonzero\n",
    "                    found = True # pivot found at k\n",
    "                    break\n",
    "            if found: # if pivot found at k\n",
    "                # swap rows i, k\n",
    "                for j in range(i, n+1):\n",
    "                    tmp = extend_A[k, j]\n",
    "                    extend_A[k, j] = extend_A[rank, j]\n",
    "                    extend_A[rank, j] = tmp\n",
    "                # increase rank by 1\n",
    "                rank += 1\n",
    "        else:\n",
    "            raise ValueError(\"non binary matrix encountered!\")\n",
    "            # pivot has moved to a[i, i]\n",
    "        if found: # pivot is in place, perform Gaussian elimination\n",
    "            for j in range(i + 1, m):\n",
    "                if extend_A[j, i]: # a[j, i] nonzero\n",
    "                    extend_A[j, i:] = (extend_A[j, i:] + extend_A[i, i:])%2\n",
    "    return extend_A, rank"
   ]
  },
  {
   "cell_type": "code",
   "execution_count": 71,
   "id": "74361384-7f0c-44c1-9b50-01929d0ac403",
   "metadata": {},
   "outputs": [
    {
     "name": "stdout",
     "output_type": "stream",
     "text": [
      "[[1 0 1 0]\n",
      " [0 1 1 0]\n",
      " [1 1 1 1]\n",
      " [1 1 1 1]\n",
      " [1 1 1 1]\n",
      " [0 1 0 1]]\n"
     ]
    }
   ],
   "source": [
    "A = numpy.array([[1,0,1,0],[0,1,1,0],[1,1,1,1],[1,1,1,1],[1,1,1,1],[0,1,0,1]])\n",
    "print(A)\n",
    "y = numpy.array([1,1,0,0,0,1])"
   ]
  },
  {
   "cell_type": "code",
   "execution_count": 72,
   "id": "9312d34e-35aa-4d0f-8c66-ae0b74724555",
   "metadata": {},
   "outputs": [],
   "source": [
    "exA, rank = REF(A,y)"
   ]
  },
  {
   "cell_type": "code",
   "execution_count": 73,
   "id": "a3af3d0b-e017-440a-8603-b033aa4ef462",
   "metadata": {},
   "outputs": [
    {
     "name": "stdout",
     "output_type": "stream",
     "text": [
      "[[1 0 1 0 1]\n",
      " [0 1 1 0 1]\n",
      " [0 0 1 1 0]\n",
      " [0 0 0 0 0]\n",
      " [0 0 0 0 0]\n",
      " [0 0 0 0 0]] 3\n"
     ]
    }
   ],
   "source": [
    "print(exA, rank)"
   ]
  },
  {
   "cell_type": "code",
   "execution_count": null,
   "id": "c97870f5-c9d7-45d5-abee-8ce2668dc59e",
   "metadata": {},
   "outputs": [],
   "source": [
    "@njit\n",
    "def find_special_sol(extend_A, rank):\n",
    "    m = extend_A.shape[0]\n",
    "    n = extend_A.shape[1]-1\n",
    "    special_sol = numpy.zeros(n,dtype=extend_A.dtype)\n",
    "    fixed_index = []\n",
    "    if numpy.sum(extend_A[rank-1,:n])==1: # just one variable\n",
    "        special_sol[-1]=extend_A[rank-1,-1]\n",
    "        fixed_index.append(n-1)\n",
    "        extend_A[:,-1] = (extend_A[:,-1]-special_sol[n-1]*extend_A[:,n-1])%2\n",
    "        extend_A = numpy.delete(extend_A, n-1, axis=1)\n",
    "    elif numpy.sum(extend_A[rank-1,:n])>1: # more than one variable\n",
    "        special_sol[-1]=1\n",
    "        fixed_index.append(n-1)\n",
    "        extend_A[:,-1] = (extend_A[:,-1]-special_sol[n-1]*extend_A[:,n-1])%2\n",
    "        # iteratively find non-zero index and solve them\n",
    "        \n",
    "        \n",
    "        \n",
    "        \n",
    "        leftover = extend_A[rank-1]\n",
    "        index = numpy.argwhere(numpy.array([1,0,0,1,1])>0).flatten()\n",
    "        for i in range(index.shape[0]-2,-1,-1):\n",
    "            \n",
    "    else:\n",
    "        raise ValueError(\"rank of A is wrong!\")"
   ]
  },
  {
   "cell_type": "code",
   "execution_count": 84,
   "id": "63200f44-7795-40ed-9d1b-5bff674c7069",
   "metadata": {},
   "outputs": [
    {
     "data": {
      "text/plain": [
       "array([0, 3, 4])"
      ]
     },
     "execution_count": 84,
     "metadata": {},
     "output_type": "execute_result"
    }
   ],
   "source": [
    "numpy.argwhere(numpy.array([1,0,0,1,1])>0).flatten()"
   ]
  },
  {
   "cell_type": "code",
   "execution_count": 81,
   "id": "14d300e9-0976-401f-96d1-8b7333d72f5b",
   "metadata": {},
   "outputs": [
    {
     "name": "stdout",
     "output_type": "stream",
     "text": [
      "5\n",
      "4\n",
      "3\n",
      "2\n",
      "1\n",
      "0\n"
     ]
    }
   ],
   "source": [
    "for i in range(5,-1,-1):\n",
    "    print(i)"
   ]
  },
  {
   "cell_type": "code",
   "execution_count": 87,
   "id": "ac3ce470-e545-4de5-b32f-75e261e1abb4",
   "metadata": {},
   "outputs": [],
   "source": [
    "a = numpy.random.randn(5,3)"
   ]
  },
  {
   "cell_type": "code",
   "execution_count": 88,
   "id": "b3650a7e-6347-440e-b764-3afb8bd5488d",
   "metadata": {},
   "outputs": [
    {
     "data": {
      "text/plain": [
       "array([[ 0.31589892, -0.57352429, -2.41426498],\n",
       "       [-0.42198749, -0.06152225,  0.42424506],\n",
       "       [ 1.8297089 ,  0.82066158,  0.32237048],\n",
       "       [ 2.40303408, -0.46625641,  0.77097297],\n",
       "       [-0.38421402, -0.21436258, -0.00879935]])"
      ]
     },
     "execution_count": 88,
     "metadata": {},
     "output_type": "execute_result"
    }
   ],
   "source": [
    "a"
   ]
  },
  {
   "cell_type": "code",
   "execution_count": 90,
   "id": "93074ee1-e522-43a3-86c2-97bdd73d74de",
   "metadata": {},
   "outputs": [
    {
     "data": {
      "text/plain": [
       "array([[ 0.31589892, -2.41426498],\n",
       "       [-0.42198749,  0.42424506],\n",
       "       [ 1.8297089 ,  0.32237048],\n",
       "       [ 2.40303408,  0.77097297],\n",
       "       [-0.38421402, -0.00879935]])"
      ]
     },
     "execution_count": 90,
     "metadata": {},
     "output_type": "execute_result"
    }
   ],
   "source": [
    "numpy.delete(a, 1,axis=1)"
   ]
  },
  {
   "cell_type": "code",
   "execution_count": null,
   "id": "881d831f-407f-4118-ac38-4ca8d701a552",
   "metadata": {},
   "outputs": [],
   "source": []
  }
 ],
 "metadata": {
  "kernelspec": {
   "display_name": "Python 3",
   "language": "python",
   "name": "python3"
  },
  "language_info": {
   "codemirror_mode": {
    "name": "ipython",
    "version": 3
   },
   "file_extension": ".py",
   "mimetype": "text/x-python",
   "name": "python",
   "nbconvert_exporter": "python",
   "pygments_lexer": "ipython3",
   "version": "3.9.2"
  }
 },
 "nbformat": 4,
 "nbformat_minor": 5
}
