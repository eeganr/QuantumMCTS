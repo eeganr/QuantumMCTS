{
 "cells": [
  {
   "cell_type": "code",
   "execution_count": 1,
   "metadata": {},
   "outputs": [],
   "source": [
    "from context import *"
   ]
  },
  {
   "cell_type": "markdown",
   "metadata": {},
   "source": [
    "# Quantum Device"
   ]
  },
  {
   "cell_type": "markdown",
   "metadata": {},
   "source": [
    "## ClassicalShadow"
   ]
  },
  {
   "cell_type": "markdown",
   "metadata": {},
   "source": [
    "`ClassicalShadow(state, circuit)` is a high-level interface to simulate the classical shadow data acquisition protocol on a stabilizer state $\\rho$ via a random Clifford circuit $U$.\n",
    "\n",
    "**Parameters:**\n",
    "* `state` - a `StabilizerState` representing the base state $\\rho$.\n",
    "* `circuit` - a `CliffordCircuit` representing the unitary channel $U$ in the measurement protocol."
   ]
  },
  {
   "cell_type": "markdown",
   "metadata": {},
   "source": [
    "### Methods"
   ]
  },
  {
   "cell_type": "markdown",
   "metadata": {},
   "source": [
    "#### snapshots"
   ]
  },
  {
   "cell_type": "markdown",
   "metadata": {},
   "source": [
    "`ClassicalShadow.snapshots(nsample)` provides a generator to serve $n_\\text{sample}$ of classical snapshot states from the posterior POVM $\\mathcal{E}_{\\sigma|\\rho}$.\n",
    "\n",
    "* Forward protocol (physical):\n",
    "    * Get a copy of $\\rho$.\n",
    "    * Evolve the state by the unitary circuit $\\rho\\to \\rho'=U\\rho U^\\dagger$.\n",
    "    * Measure in the computational basis $\\rho'\\to|b\\rangle\\langle b|$.\n",
    "    * Collect the snapshot state $\\hat{\\sigma}=U^\\dagger |b\\rangle\\langle b| U$.\n",
    "    \n",
    "* Backward protocol (computational):\n",
    "    * Start from the all-up state $M_0=|\\vec{0}\\rangle\\langle \\vec{0}|=\\prod_i\\frac{1+Z_i}{2}$.\n",
    "    * Transform backward through the unitary channel $M_0\\to M= U^\\dagger M_0 U=\\prod_i\\frac{1+Z'_i}{2}$ to the measurement basis.\n",
    "    * Get a copy of $\\rho$, measure observables $Z'_i$ , obtain measurement outcome $b_i$.\n",
    "    * Collect the post measurement state $\\hat{\\sigma}=\\prod_{i}\\frac{1+(-)^{b_i}Z'_i}{2}=\\prod_{i}\\frac{1+g_i}{2}$ (by redefining $g_i=(-)^{b_i}Z'_i$).\n",
    "    \n",
    "Both protocols collect the classical snapshot $\\hat{\\sigma}$ correctly. The backward protocol is implement in the computation."
   ]
  },
  {
   "cell_type": "markdown",
   "metadata": {},
   "source": [
    "Example:"
   ]
  },
  {
   "cell_type": "code",
   "execution_count": 3,
   "metadata": {},
   "outputs": [
    {
     "data": {
      "text/plain": [
       "ClassicalShadow(\n",
       "  StabilizerState(\n",
       "     +ZZI\n",
       "     +IZZ\n",
       "     +XXX),\n",
       "  CliffordCircuit(\n",
       "    |[0,1,2]|))"
      ]
     },
     "execution_count": 3,
     "metadata": {},
     "output_type": "execute_result"
    }
   ],
   "source": [
    "shd = qst.ClassicalShadow(qst.ghz_state(3), qst.global_rcc(3))\n",
    "shd"
   ]
  },
  {
   "cell_type": "code",
   "execution_count": 4,
   "metadata": {},
   "outputs": [
    {
     "name": "stdout",
     "output_type": "stream",
     "text": [
      "StabilizerState(\n",
      "   +ZYI\n",
      "   -YXZ\n",
      "   +XXX)\n",
      "StabilizerState(\n",
      "   +ZZI\n",
      "   +XXZ\n",
      "   -XYY)\n",
      "StabilizerState(\n",
      "   +ZYI\n",
      "   -YXI\n",
      "   -YXY)\n",
      "StabilizerState(\n",
      "   -ZYX\n",
      "   +YYZ\n",
      "   +IZY)\n",
      "StabilizerState(\n",
      "   +ZZI\n",
      "   -YYZ\n",
      "   -IZY)\n"
     ]
    }
   ],
   "source": [
    "for snapshot in shd.snapshots(5):\n",
    "    print(snapshot)"
   ]
  },
  {
   "cell_type": "markdown",
   "metadata": {},
   "source": [
    "### Fidelity Estimate"
   ]
  },
  {
   "cell_type": "markdown",
   "metadata": {},
   "source": [
    "Estimate the fidelity of the original state and the reconstructed state under classical shadow tomography."
   ]
  },
  {
   "cell_type": "markdown",
   "metadata": {},
   "source": [
    "* Global Clifford measurement,\n",
    "$$\\mathrm{Tr}(\\rho\\tilde{\\rho})=\\mathbb{E}_{\\mathcal{E}_{\\sigma|\\rho}}\\mathrm{Tr}(\\rho\\mathcal{M}^{-1}[\\sigma]) = (2^N+1)\\mathbb{E}_{\\mathcal{E}_{\\sigma|\\rho}}\\mathrm{Tr}(\\rho\\sigma)-1.$$"
   ]
  },
  {
   "cell_type": "code",
   "execution_count": 5,
   "metadata": {},
   "outputs": [
    {
     "name": "stdout",
     "output_type": "stream",
     "text": [
      "fidelity: 0.991000\n"
     ]
    }
   ],
   "source": [
    "N = 50\n",
    "nsample = 1000\n",
    "rho = qst.ghz_state(N)\n",
    "circ = qst.global_rcc(N)\n",
    "shd = qst.ClassicalShadow(rho, circ)\n",
    "acc = 0.\n",
    "for sigma in shd.snapshots(nsample):\n",
    "    acc += rho.expect(sigma)\n",
    "F = (2**rho.N + 1)*(acc/nsample) - 1.\n",
    "print('fidelity: {:8.6f}'.format(F))"
   ]
  },
  {
   "cell_type": "markdown",
   "metadata": {},
   "source": [
    "* Local Clifford measurement,\n",
    "$$\\mathrm{Tr}(\\rho\\tilde{\\rho})=\\mathbb{E}_{\\mathcal{E}_{\\sigma|\\rho}}\\mathrm{Tr}(\\rho\\mathcal{M}^{-1}[\\sigma]) = \\mathbb{E}_{\\mathcal{E}_{\\sigma|\\rho}}\\mathrm{Tr}\\left(\\rho\\prod_i(3\\sigma_i-\\mathbb{1}_i)\\right) = \\mathbb{E}_{\\mathcal{E}_{\\sigma|\\rho}}\\mathrm{Tr}\\left(\\rho\\prod_i\\frac{3g_i+\\mathbb{1}}{2}\\right).$$"
   ]
  },
  {
   "cell_type": "code",
   "execution_count": 6,
   "metadata": {},
   "outputs": [
    {
     "name": "stdout",
     "output_type": "stream",
     "text": [
      "fidelity: 1.040938\n"
     ]
    }
   ],
   "source": [
    "N = 5\n",
    "nsample = 1000\n",
    "rho = qst.ghz_state(N)\n",
    "circ = qst.onsite_rcc(N)\n",
    "shd = qst.ClassicalShadow(rho, circ)\n",
    "acc = 0.\n",
    "for sigma in shd.snapshots(nsample):\n",
    "    acc += rho.expect(sigma.density_matrix, z=3)\n",
    "F = acc/nsample\n",
    "print('fidelity: {:8.6f}'.format(F.real))"
   ]
  },
  {
   "cell_type": "code",
   "execution_count": null,
   "metadata": {},
   "outputs": [],
   "source": []
  }
 ],
 "metadata": {
  "kernelspec": {
   "display_name": "Python 3 (ipykernel)",
   "language": "python",
   "name": "python3"
  },
  "language_info": {
   "codemirror_mode": {
    "name": "ipython",
    "version": 3
   },
   "file_extension": ".py",
   "mimetype": "text/x-python",
   "name": "python",
   "nbconvert_exporter": "python",
   "pygments_lexer": "ipython3",
   "version": "3.9.12"
  }
 },
 "nbformat": 4,
 "nbformat_minor": 4
}
