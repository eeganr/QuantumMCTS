{
 "cells": [
  {
   "cell_type": "code",
   "execution_count": 2,
   "id": "bedf086f-dbf4-48ba-b928-87b09b9e20b8",
   "metadata": {},
   "outputs": [],
   "source": [
    "from context import *"
   ]
  },
  {
   "cell_type": "markdown",
   "id": "538a51d0-687b-4b6c-9d3d-1e88dd62093f",
   "metadata": {},
   "source": [
    "``"
   ]
  },
  {
   "cell_type": "code",
   "execution_count": null,
   "id": "5717b40a-2025-4902-843a-2f43c4bcf4eb",
   "metadata": {},
   "outputs": [],
   "source": []
  },
  {
   "cell_type": "code",
   "execution_count": null,
   "id": "4b200d58-3b63-4cd3-a8d7-7964d6009658",
   "metadata": {},
   "outputs": [],
   "source": []
  },
  {
   "cell_type": "code",
   "execution_count": null,
   "id": "a9524974-2b6d-4292-abd4-e0336b00d196",
   "metadata": {},
   "outputs": [],
   "source": []
  },
  {
   "cell_type": "code",
   "execution_count": null,
   "id": "c1d740e2-c1e4-437d-a2d7-07851867038f",
   "metadata": {},
   "outputs": [],
   "source": []
  },
  {
   "cell_type": "code",
   "execution_count": null,
   "id": "9010ab72-3040-4cee-9b45-0a3af164f8e7",
   "metadata": {},
   "outputs": [],
   "source": []
  },
  {
   "cell_type": "code",
   "execution_count": null,
   "id": "b34f7dc9-9d6c-4f5e-8f78-1ceab034cb99",
   "metadata": {},
   "outputs": [],
   "source": []
  },
  {
   "cell_type": "code",
   "execution_count": 44,
   "id": "91a91aab-ac50-4824-a759-fa6876df4468",
   "metadata": {},
   "outputs": [
    {
     "data": {
      "text/plain": [
       "-iYZ"
      ]
     },
     "execution_count": 44,
     "metadata": {},
     "output_type": "execute_result"
    }
   ],
   "source": [
    "circuit.clifford_rotation_gate([0,2,3,0,7]).generator"
   ]
  },
  {
   "cell_type": "code",
   "execution_count": 49,
   "id": "a1bdea72-9eee-4294-8e56-d4ea87c1b775",
   "metadata": {},
   "outputs": [],
   "source": [
    "circ = circuit.identity_circuit(5).take(circuit.clifford_rotation_gate([0,2,3,0,5])).take(circuit.clifford_rotation_gate([0,0,0,1,3,4]))"
   ]
  },
  {
   "cell_type": "code",
   "execution_count": 56,
   "id": "a46b6fc2-759f-4211-882e-6b84a598d10e",
   "metadata": {},
   "outputs": [
    {
     "data": {
      "text/plain": [
       "CliffordCircuit(\n",
       "  |[1,2][3,4]|)"
      ]
     },
     "execution_count": 56,
     "metadata": {},
     "output_type": "execute_result"
    }
   ],
   "source": [
    "circ.compile(5)"
   ]
  },
  {
   "cell_type": "code",
   "execution_count": 57,
   "id": "a09ad9fc-141e-4b61-ab46-f5f887390f19",
   "metadata": {},
   "outputs": [
    {
     "data": {
      "text/plain": [
       "CliffordMap(\n",
       "  X0-> +XIIII\n",
       "  Z0-> +ZIIII\n",
       "  X1-> +IZZII\n",
       "  Z1-> -IXZII\n",
       "  X2-> -IYYII\n",
       "  Z2-> +IIZII\n",
       "  X3-> +IIIXI\n",
       "  Z3-> -IIIYZ\n",
       "  X4-> +IIIXY\n",
       "  Z4-> +IIIIZ)"
      ]
     },
     "execution_count": 57,
     "metadata": {},
     "output_type": "execute_result"
    }
   ],
   "source": [
    "circ.forward_map"
   ]
  },
  {
   "cell_type": "code",
   "execution_count": null,
   "id": "ac7b50c7-2ae5-4e8b-bbf9-5b8333ca5b69",
   "metadata": {},
   "outputs": [],
   "source": []
  }
 ],
 "metadata": {
  "kernelspec": {
   "display_name": "Python 3 (ipykernel)",
   "language": "python",
   "name": "python3"
  },
  "language_info": {
   "codemirror_mode": {
    "name": "ipython",
    "version": 3
   },
   "file_extension": ".py",
   "mimetype": "text/x-python",
   "name": "python",
   "nbconvert_exporter": "python",
   "pygments_lexer": "ipython3",
   "version": "3.10.4"
  }
 },
 "nbformat": 4,
 "nbformat_minor": 5
}
